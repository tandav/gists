{
  "nbformat": 4,
  "nbformat_minor": 0,
  "metadata": {
    "colab": {
      "name": "deepspeech.ipynb",
      "version": "0.3.2",
      "provenance": [],
      "collapsed_sections": [],
      "include_colab_link": true
    },
    "kernelspec": {
      "name": "python3",
      "display_name": "Python 3"
    },
    "accelerator": "GPU"
  },
  "cells": [
    {
      "cell_type": "markdown",
      "metadata": {
        "id": "view-in-github",
        "colab_type": "text"
      },
      "source": [
        "<a href=\"https://colab.research.google.com/github/tandav/gists/blob/master/deepspeech.ipynb\" target=\"_parent\"><img src=\"https://colab.research.google.com/assets/colab-badge.svg\" alt=\"Open In Colab\"/></a>"
      ]
    },
    {
      "metadata": {
        "id": "kV68ojZ_jIAa",
        "colab_type": "code",
        "colab": {}
      },
      "cell_type": "code",
      "source": [
        "!pip install deepspeech-gpu==0.5.0a4\n",
        "!git clone https://github.com/mozilla/DeepSpeech /DeepSpeech\n",
        "    \n",
        "import os\n",
        "os.chdir('/DeepSpeech')\n",
        "!pip3 install -r requirements.txt\n",
        "\n",
        "!pip3 install $(python3 util/taskcluster.py --decoder)\n",
        "!git clone https://github.com/GeorgeFedoseev/DeepSpeech /GeorgeFedoseevDeepSpeech\n",
        "    \n",
        "!mv /DeepSpeech/data /DeepSpeech/moz_data\n",
        "!mv /GeorgeFedoseevDeepSpeech/data /DeepSpeech/data"
      ],
      "execution_count": 0,
      "outputs": []
    },
    {
      "metadata": {
        "id": "ctEtjDEHeW-l",
        "colab_type": "code",
        "outputId": "6eb89120-7624-4a2f-f24c-42063e4be462",
        "colab": {
          "base_uri": "https://localhost:8080/",
          "height": 51
        }
      },
      "cell_type": "code",
      "source": [
        "# Code to read csv file into Colaboratory:\n",
        "!pip install -U -q PyDrive\n",
        "from pydrive.auth import GoogleAuth\n",
        "from pydrive.drive import GoogleDrive\n",
        "from google.colab import auth\n",
        "from oauth2client.client import GoogleCredentials\n",
        "# Authenticate and create the PyDrive client.\n",
        "auth.authenticate_user()\n",
        "gauth = GoogleAuth()\n",
        "gauth.credentials = GoogleCredentials.get_application_default()\n",
        "drive = GoogleDrive(gauth)"
      ],
      "execution_count": 2,
      "outputs": [
        {
          "output_type": "stream",
          "text": [
            "\u001b[?25l\r\u001b[K    1% |▎                               | 10kB 17.2MB/s eta 0:00:01\r\u001b[K    2% |▋                               | 20kB 2.3MB/s eta 0:00:01\r\u001b[K    3% |█                               | 30kB 3.3MB/s eta 0:00:01\r\u001b[K    4% |█▎                              | 40kB 2.1MB/s eta 0:00:01\r\u001b[K    5% |█▋                              | 51kB 2.6MB/s eta 0:00:01\r\u001b[K    6% |██                              | 61kB 3.1MB/s eta 0:00:01\r\u001b[K    7% |██▎                             | 71kB 3.6MB/s eta 0:00:01\r\u001b[K    8% |██▋                             | 81kB 4.0MB/s eta 0:00:01\r\u001b[K    9% |███                             | 92kB 4.4MB/s eta 0:00:01\r\u001b[K    10% |███▎                            | 102kB 3.5MB/s eta 0:00:01\r\u001b[K    11% |███▋                            | 112kB 3.5MB/s eta 0:00:01\r\u001b[K    12% |████                            | 122kB 4.9MB/s eta 0:00:01\r\u001b[K    13% |████▎                           | 133kB 4.9MB/s eta 0:00:01\r\u001b[K    14% |████▋                           | 143kB 9.1MB/s eta 0:00:01\r\u001b[K    15% |█████                           | 153kB 9.2MB/s eta 0:00:01\r\u001b[K    16% |█████▎                          | 163kB 9.2MB/s eta 0:00:01\r\u001b[K    17% |█████▋                          | 174kB 9.3MB/s eta 0:00:01\r\u001b[K    18% |██████                          | 184kB 9.5MB/s eta 0:00:01\r\u001b[K    19% |██████▎                         | 194kB 9.5MB/s eta 0:00:01\r\u001b[K    20% |██████▋                         | 204kB 36.7MB/s eta 0:00:01\r\u001b[K    21% |███████                         | 215kB 10.7MB/s eta 0:00:01\r\u001b[K    22% |███████▎                        | 225kB 10.9MB/s eta 0:00:01\r\u001b[K    23% |███████▋                        | 235kB 11.1MB/s eta 0:00:01\r\u001b[K    24% |████████                        | 245kB 11.1MB/s eta 0:00:01\r\u001b[K    25% |████████▎                       | 256kB 11.0MB/s eta 0:00:01\r\u001b[K    26% |████████▋                       | 266kB 10.6MB/s eta 0:00:01\r\u001b[K    27% |█████████                       | 276kB 10.7MB/s eta 0:00:01\r\u001b[K    29% |█████████▎                      | 286kB 10.7MB/s eta 0:00:01\r\u001b[K    30% |█████████▋                      | 296kB 10.7MB/s eta 0:00:01\r\u001b[K    31% |██████████                      | 307kB 11.1MB/s eta 0:00:01\r\u001b[K    32% |██████████▎                     | 317kB 45.6MB/s eta 0:00:01\r\u001b[K    33% |██████████▋                     | 327kB 45.6MB/s eta 0:00:01\r\u001b[K    34% |███████████                     | 337kB 46.4MB/s eta 0:00:01\r\u001b[K    35% |███████████▎                    | 348kB 42.1MB/s eta 0:00:01\r\u001b[K    36% |███████████▋                    | 358kB 43.0MB/s eta 0:00:01\r\u001b[K    37% |████████████                    | 368kB 50.3MB/s eta 0:00:01\r\u001b[K    38% |████████████▎                   | 378kB 49.6MB/s eta 0:00:01\r\u001b[K    39% |████████████▋                   | 389kB 50.9MB/s eta 0:00:01\r\u001b[K    40% |█████████████                   | 399kB 12.5MB/s eta 0:00:01\r\u001b[K    41% |█████████████▎                  | 409kB 12.5MB/s eta 0:00:01\r\u001b[K    42% |█████████████▋                  | 419kB 12.5MB/s eta 0:00:01\r\u001b[K    43% |██████████████                  | 430kB 12.5MB/s eta 0:00:01\r\u001b[K    44% |██████████████▎                 | 440kB 12.5MB/s eta 0:00:01\r\u001b[K    45% |██████████████▋                 | 450kB 12.7MB/s eta 0:00:01\r\u001b[K    46% |███████████████                 | 460kB 12.5MB/s eta 0:00:01\r\u001b[K    47% |███████████████▎                | 471kB 12.6MB/s eta 0:00:01\r\u001b[K    48% |███████████████▋                | 481kB 12.6MB/s eta 0:00:01\r\u001b[K    49% |████████████████                | 491kB 12.5MB/s eta 0:00:01\r\u001b[K    50% |████████████████▎               | 501kB 52.6MB/s eta 0:00:01\r\u001b[K    51% |████████████████▋               | 512kB 50.5MB/s eta 0:00:01\r\u001b[K    52% |█████████████████               | 522kB 50.1MB/s eta 0:00:01\r\u001b[K    53% |█████████████████▎              | 532kB 49.4MB/s eta 0:00:01\r\u001b[K    54% |█████████████████▋              | 542kB 47.2MB/s eta 0:00:01\r\u001b[K    55% |██████████████████              | 552kB 50.5MB/s eta 0:00:01\r\u001b[K    57% |██████████████████▎             | 563kB 51.9MB/s eta 0:00:01\r\u001b[K    58% |██████████████████▋             | 573kB 50.8MB/s eta 0:00:01\r\u001b[K    59% |███████████████████             | 583kB 50.8MB/s eta 0:00:01\r\u001b[K    60% |███████████████████▎            | 593kB 50.4MB/s eta 0:00:01\r\u001b[K    61% |███████████████████▋            | 604kB 49.9MB/s eta 0:00:01\r\u001b[K    62% |████████████████████            | 614kB 52.6MB/s eta 0:00:01\r\u001b[K    63% |████████████████████▎           | 624kB 52.2MB/s eta 0:00:01\r\u001b[K    64% |████████████████████▋           | 634kB 53.2MB/s eta 0:00:01\r\u001b[K    65% |█████████████████████           | 645kB 14.3MB/s eta 0:00:01\r\u001b[K    66% |█████████████████████▎          | 655kB 14.1MB/s eta 0:00:01\r\u001b[K    67% |█████████████████████▋          | 665kB 13.3MB/s eta 0:00:01\r\u001b[K    68% |██████████████████████          | 675kB 13.2MB/s eta 0:00:01\r\u001b[K    69% |██████████████████████▎         | 686kB 13.1MB/s eta 0:00:01\r\u001b[K    70% |██████████████████████▋         | 696kB 13.2MB/s eta 0:00:01\r\u001b[K    71% |███████████████████████         | 706kB 13.0MB/s eta 0:00:01\r\u001b[K    72% |███████████████████████▎        | 716kB 13.0MB/s eta 0:00:01\r\u001b[K    73% |███████████████████████▋        | 727kB 13.0MB/s eta 0:00:01\r\u001b[K    74% |████████████████████████        | 737kB 12.9MB/s eta 0:00:01\r\u001b[K    75% |████████████████████████▎       | 747kB 38.3MB/s eta 0:00:01\r\u001b[K    76% |████████████████████████▋       | 757kB 38.8MB/s eta 0:00:01\r\u001b[K    77% |████████████████████████▉       | 768kB 47.1MB/s eta 0:00:01\r\u001b[K    78% |█████████████████████████▏      | 778kB 49.6MB/s eta 0:00:01\r\u001b[K    79% |█████████████████████████▌      | 788kB 48.5MB/s eta 0:00:01\r\u001b[K    80% |█████████████████████████▉      | 798kB 49.2MB/s eta 0:00:01\r\u001b[K    81% |██████████████████████████▏     | 808kB 50.3MB/s eta 0:00:01\r\u001b[K    82% |██████████████████████████▌     | 819kB 50.1MB/s eta 0:00:01\r\u001b[K    83% |██████████████████████████▉     | 829kB 50.7MB/s eta 0:00:01\r\u001b[K    85% |███████████████████████████▏    | 839kB 51.8MB/s eta 0:00:01\r\u001b[K    86% |███████████████████████████▌    | 849kB 53.7MB/s eta 0:00:01\r\u001b[K    87% |███████████████████████████▉    | 860kB 50.3MB/s eta 0:00:01\r\u001b[K    88% |████████████████████████████▏   | 870kB 49.8MB/s eta 0:00:01\r\u001b[K    89% |████████████████████████████▌   | 880kB 49.4MB/s eta 0:00:01\r\u001b[K    90% |████████████████████████████▉   | 890kB 51.5MB/s eta 0:00:01\r\u001b[K    91% |█████████████████████████████▏  | 901kB 50.6MB/s eta 0:00:01\r\u001b[K    92% |█████████████████████████████▌  | 911kB 51.8MB/s eta 0:00:01\r\u001b[K    93% |█████████████████████████████▉  | 921kB 51.5MB/s eta 0:00:01\r\u001b[K    94% |██████████████████████████████▏ | 931kB 51.9MB/s eta 0:00:01\r\u001b[K    95% |██████████████████████████████▌ | 942kB 51.8MB/s eta 0:00:01\r\u001b[K    96% |██████████████████████████████▉ | 952kB 52.3MB/s eta 0:00:01\r\u001b[K    97% |███████████████████████████████▏| 962kB 59.0MB/s eta 0:00:01\r\u001b[K    98% |███████████████████████████████▌| 972kB 59.1MB/s eta 0:00:01\r\u001b[K    99% |███████████████████████████████▉| 983kB 60.5MB/s eta 0:00:01\r\u001b[K    100% |████████████████████████████████| 993kB 21.6MB/s \n",
            "\u001b[?25h  Building wheel for PyDrive (setup.py) ... \u001b[?25ldone\n",
            "\u001b[?25h"
          ],
          "name": "stdout"
        }
      ]
    },
    {
      "metadata": {
        "id": "kFwUSOlZenEP",
        "colab_type": "code",
        "colab": {}
      },
      "cell_type": "code",
      "source": [
        "def download_gdrive_file(file_id):\n",
        "    '''\n",
        "    example file_id:\n",
        "    1FdiUVpef4cVKnB8noG4BUjVTSwaS9HfA\n",
        "    '''\n",
        "    gfile = drive.CreateFile({'id': file_id})\n",
        "    gfile.FetchMetadata()\n",
        "    gfile_name = gfile['title']\n",
        "    gfile.GetContentFile(gfile_name)"
      ],
      "execution_count": 0,
      "outputs": []
    },
    {
      "metadata": {
        "id": "C24EHnAO_u25",
        "colab_type": "code",
        "outputId": "69a2f954-b2e1-4e80-bbba-683e766f83e2",
        "colab": {
          "base_uri": "https://localhost:8080/",
          "height": 119
        }
      },
      "cell_type": "code",
      "source": [
        "download_gdrive_file('1FdiUVpef4cVKnB8noG4BUjVTSwaS9HfA') # LM-mixed-yt-echo-wiki-o5-prune2-24Jun18 (1GB)\n",
        "!tar xvfz LM-mixed-yt-echo-wiki-o5-prune2-24Jun18.tar.gz"
      ],
      "execution_count": 4,
      "outputs": [
        {
          "output_type": "stream",
          "text": [
            "mixed-yt-echo-wiki-o5-prune2-24Jun18/\n",
            "mixed-yt-echo-wiki-o5-prune2-24Jun18/vocabulary.txt\n",
            "mixed-yt-echo-wiki-o5-prune2-24Jun18/lm.binary\n",
            "mixed-yt-echo-wiki-o5-prune2-24Jun18/trie\n",
            "mixed-yt-echo-wiki-o5-prune2-24Jun18/words.arpa\n",
            "mixed-yt-echo-wiki-o5-prune2-24Jun18/alphabet.txt\n"
          ],
          "name": "stdout"
        }
      ]
    },
    {
      "metadata": {
        "id": "5CwSOm2wiUt1",
        "colab_type": "code",
        "colab": {}
      },
      "cell_type": "code",
      "source": [
        "import requests\n",
        "\n",
        "def download_file_from_google_drive(id, destination):\n",
        "    def get_confirm_token(response):\n",
        "        for key, value in response.cookies.items():\n",
        "            if key.startswith('download_warning'):\n",
        "                return value\n",
        "\n",
        "        return None\n",
        "\n",
        "    def save_response_content(response, destination):\n",
        "        CHUNK_SIZE = 32768\n",
        "\n",
        "        with open(destination, \"wb\") as f:\n",
        "            for chunk in response.iter_content(CHUNK_SIZE):\n",
        "                if chunk: # filter out keep-alive new chunks\n",
        "                    f.write(chunk)\n",
        "#                     print('.')\n",
        "\n",
        "    URL = \"https://docs.google.com/uc?export=download\"\n",
        "\n",
        "    session = requests.Session()\n",
        "\n",
        "    response = session.get(URL, params = { 'id' : id }, stream = True)\n",
        "    token = get_confirm_token(response)\n",
        "\n",
        "    if token:\n",
        "        params = { 'id' : id, 'confirm' : token }\n",
        "        response = session.get(URL, params = params, stream = True)\n",
        "\n",
        "    save_response_content(response, destination)    \n",
        "\n",
        "\n",
        "\n",
        "file_id = '12WUh8REDuhOAQIISF7hBldM0mhxtDpE0'\n",
        "destination = 'yt-vad-650-clean.tar.gz'\n",
        "download_file_from_google_drive(file_id, destination)\n",
        "\n",
        "!tar xfz yt-vad-650-clean.tar.gz"
      ],
      "execution_count": 0,
      "outputs": []
    },
    {
      "metadata": {
        "id": "w-Z3k5gHZnAo",
        "colab_type": "code",
        "colab": {}
      },
      "cell_type": "code",
      "source": [
        "# download_gdrive_file('1Vx6NP0i3GhVpKFKVvTlEVo-mhvhLZ3q0') # random samples from yt-subs-rus-6k (274MB)"
      ],
      "execution_count": 0,
      "outputs": []
    },
    {
      "metadata": {
        "id": "zKRQj0FSueN1",
        "colab_type": "code",
        "outputId": "26d4bc7e-3015-4634-b669-ecdfa1e4ebb4",
        "colab": {
          "base_uri": "https://localhost:8080/",
          "height": 68
        }
      },
      "cell_type": "code",
      "source": [
        "# this link changes every day\n",
        "# https://drive.google.com/uc?id=12WUh8REDuhOAQIISF7hBldM0mhxtDpE0&export=download\n",
        "!curl 'https://doc-08-a4-docs.googleusercontent.com/docs/securesc/k2cjvm9vil57g6ltq771ukbo5ulegnap/k6tlcgjgum46kfanmka6tgfmr0gt7bj7/1553947200000/08032243308062674117/02123041894493518740/12WUh8REDuhOAQIISF7hBldM0mhxtDpE0?e=download&nonce=08h0fk4l23ptu&user=02123041894493518740&hash=2p1bg486trla047l8c6tbaa0kajitajq' -H 'authority: doc-08-a4-docs.googleusercontent.com' -H 'upgrade-insecure-requests: 1' -H 'user-agent: Mozilla/5.0 (Macintosh; Intel Mac OS X 10_14_2) AppleWebKit/537.36 (KHTML, like Gecko) Chrome/73.0.3683.86 Safari/537.36' -H 'accept: text/html,application/xhtml+xml,application/xml;q=0.9,image/webp,image/apng,*/*;q=0.8,application/signed-exchange;v=b3' -H 'x-client-data: CIW2yQEIprbJAQjBtskBCKmdygEIqKPKAQixp8oBCOKoygEI8KnKAQiurMoB' -H 'referer: https://drive.google.com/uc?export=download&confirm=mw0k&id=12WUh8REDuhOAQIISF7hBldM0mhxtDpE0' -H 'accept-encoding: gzip, deflate, br' -H 'accept-language: ru-RU,ru;q=0.9,en-US;q=0.8,en;q=0.7' -H 'cookie: AUTH_9cv7ish6b224rq3kvehhahj324m7enso_nonce=08h0fk4l23ptu; NID=152=ffTx9sKwR1XhKRI0zz0-B7AB4tcJdfqItemY2ln2Kag4MNiNxJEmFbDSG8YJ0W9VpzFTPngnerrLqNpHqpon8NWzFuJQpu7JdV1Q6ppGvo0nkAcByeBRzD53-dosfSK8fDsp3nsjO6g3ESJh8O_omJPvjQRx9SfrvHWT1EyoKEo' --compressed > 'yt-vad-650-clean.tar.gz'"
      ],
      "execution_count": 0,
      "outputs": [
        {
          "output_type": "stream",
          "text": [
            "  % Total    % Received % Xferd  Average Speed   Time    Time     Time  Current\n",
            "                                 Dload  Upload   Total   Spent    Left  Speed\n",
            "\r  0     0    0     0    0     0      0      0 --:--:-- --:--:-- --:--:--     0\r  0     0    0     0    0     0      0      0 --:--:-- --:--:-- --:--:--     0\r  0     0    0     0    0     0      0      0 --:--:-- --:--:-- --:--:--     0\n"
          ],
          "name": "stdout"
        }
      ]
    },
    {
      "metadata": {
        "id": "6ivdcmvi_wpq",
        "colab_type": "code",
        "colab": {}
      },
      "cell_type": "code",
      "source": [
        "!mv /DeepSpeech/headless/shared/Deep-Speech-Assets/DATASETS /datasets"
      ],
      "execution_count": 0,
      "outputs": []
    },
    {
      "metadata": {
        "id": "_y4QnuszZ_nE",
        "colab_type": "code",
        "outputId": "b5fc5eb1-e5df-4994-c9df-1c4fbce5f6b6",
        "colab": {
          "base_uri": "https://localhost:8080/",
          "height": 34
        }
      },
      "cell_type": "code",
      "source": [
        "(0.1 + 0.35)/2"
      ],
      "execution_count": 0,
      "outputs": [
        {
          "output_type": "execute_result",
          "data": {
            "text/plain": [
              "0.22499999999999998"
            ]
          },
          "metadata": {
            "tags": []
          },
          "execution_count": 1
        }
      ]
    },
    {
      "metadata": {
        "id": "ChpnWNYI7xz7",
        "colab_type": "code",
        "outputId": "5c7c4f70-a889-4472-f9f7-178a407c58d5",
        "colab": {
          "base_uri": "https://localhost:8080/",
          "height": 68
        }
      },
      "cell_type": "code",
      "source": [
        "# 0.1  ok \n",
        "# 0.35 killed\n",
        "# 0.5  killed\n",
        "import pandas as pd\n",
        "frac = 0.22\n",
        "pd.read_csv('/datasets/yt-vad-650-clean/yt-vad-650-clean-train.csv').sample(frac=frac).to_csv('/datasets/yt-vad-650-clean/subsample-train.csv', index=False)\n",
        "pd.read_csv('/datasets/yt-vad-650-clean/yt-vad-650-clean-dev.csv').sample(frac=frac).to_csv('/datasets/yt-vad-650-clean/subsample-dev.csv', index=False)\n",
        "pd.read_csv('/datasets/yt-vad-650-clean/yt-vad-650-clean-test.csv').sample(frac=frac).to_csv('/datasets/yt-vad-650-clean/subsample-test.csv', index=False)\n",
        "!wc -l /datasets/yt-vad-650-clean/subsample-train.csv\n",
        "!wc -l /datasets/yt-vad-650-clean/subsample-dev.csv\n",
        "!wc -l /datasets/yt-vad-650-clean/subsample-test.csv"
      ],
      "execution_count": 0,
      "outputs": [
        {
          "output_type": "stream",
          "text": [
            "66235 /datasets/yt-vad-650-clean/subsample-train.csv\n",
            "6214 /datasets/yt-vad-650-clean/subsample-dev.csv\n",
            "6055 /datasets/yt-vad-650-clean/subsample-test.csv\n"
          ],
          "name": "stdout"
        }
      ]
    },
    {
      "metadata": {
        "id": "oITE1z1Z2hWf",
        "colab_type": "code",
        "outputId": "8a71804e-b714-4cc6-af96-091e511237c4",
        "colab": {
          "base_uri": "https://localhost:8080/",
          "height": 489
        }
      },
      "cell_type": "code",
      "source": [
        "#   --train_files \"/DeepSpeech/data/tiny-dataset/tiny-train.csv\" \\\n",
        "#   --dev_files \"/DeepSpeech/data/tiny-dataset/tiny-dev.csv\" \\\n",
        "#   --test_files \"/DeepSpeech/data/tiny-dataset/tiny-test.csv\" \\\n",
        "\n",
        "  \n",
        "#   --lm_trie_path '/DeepSpeech/mixed-yt-echo-wiki-o5-prune2-24Jun18/trie' \\\n",
        "\n",
        "ex = '''\n",
        "#!/bin/sh\n",
        "set -xe\n",
        "if [ ! -f DeepSpeech.py ]; then\n",
        "    echo \"Please make sure you run this from DeepSpeech's top level directory.\"\n",
        "    exit 1\n",
        "fi;\n",
        "\n",
        "\n",
        "# kinda wrecked it (made all numbers small af)\n",
        "\n",
        "python -u DeepSpeech.py \\\n",
        "  --train_files \"/datasets/yt-vad-650-clean/subsample-train.csv\" \\\n",
        "  --dev_files \"/datasets/yt-vad-650-clean/subsample-dev.csv\" \\\n",
        "  --test_files \"/datasets/yt-vad-650-clean/subsample-test.csv\" \\\n",
        "  --train_batch_size 4 \\\n",
        "  --dev_batch_size 4 \\\n",
        "  --test_batch_size 4 \\\n",
        "  --learning_rate 0.0001 \\\n",
        "  --epoch 30 \\\n",
        "  --display_step 0 \\\n",
        "  --validation_step 1 \\\n",
        "  --dropout_rate 0.3 \\\n",
        "  --default_stddev 0.046875 \\\n",
        "  --n_hidden 10 \\\n",
        "  --checkpoint_dir /deep_checkpoints/ \\\n",
        "  --export_dir /deep_export/ \\\n",
        "  --log_level 2 \\\n",
        "  --report_count 3 \\\n",
        "  --xla=False \\\n",
        "  --use_warpctc=True \\\n",
        "  --lm_binary_path '/DeepSpeech/mixed-yt-echo-wiki-o5-prune2-24Jun18/lm.binary' \\\n",
        "'''\n",
        "\n",
        "with open('my_train.sh', 'w') as f:\n",
        "    f.write(ex)\n",
        "!bash my_train.sh"
      ],
      "execution_count": 0,
      "outputs": [
        {
          "output_type": "stream",
          "text": [
            "+ '[' '!' -f DeepSpeech.py ']'\n",
            "+ python -u DeepSpeech.py --train_files /datasets/yt-vad-650-clean/subsample-train.csv --dev_files /datasets/yt-vad-650-clean/subsample-dev.csv --test_files /datasets/yt-vad-650-clean/subsample-test.csv --train_batch_size 4 --dev_batch_size 4 --test_batch_size 4 --learning_rate 0.0001 --epoch 30 --display_step 0 --validation_step 1 --dropout_rate 0.3 --default_stddev 0.046875 --n_hidden 10 --checkpoint_dir /deep_checkpoints/ --export_dir /deep_export/ --log_level 2 --report_count 3 --xla=False --use_warpctc=True --lm_binary_path /DeepSpeech/mixed-yt-echo-wiki-o5-prune2-24Jun18/lm.binary\n",
            "WARNING:tensorflow:From /usr/local/lib/python3.6/dist-packages/tensorflow/python/framework/op_def_library.py:263: colocate_with (from tensorflow.python.framework.ops) is deprecated and will be removed in a future version.\n",
            "Instructions for updating:\n",
            "Colocations handled automatically by placer.\n",
            "Preprocessing ['/datasets/yt-vad-650-clean/subsample-train.csv']\n",
            "Preprocessing done\n",
            "Preprocessing ['/datasets/yt-vad-650-clean/subsample-dev.csv']\n",
            "Preprocessing done\n",
            "WARNING:tensorflow:From /usr/local/lib/python3.6/dist-packages/tensorflow/contrib/rnn/python/ops/lstm_ops.py:696: to_int64 (from tensorflow.python.ops.math_ops) is deprecated and will be removed in a future version.\n",
            "Instructions for updating:\n",
            "Use tf.cast instead.\n",
            "WARNING:tensorflow:From /usr/local/lib/python3.6/dist-packages/tensorflow/python/training/saver.py:1266: checkpoint_exists (from tensorflow.python.training.checkpoint_management) is deprecated and will be removed in a future version.\n",
            "Instructions for updating:\n",
            "Use standard file APIs to check for files with this prefix.\n",
            "WARNING:tensorflow:From /usr/local/lib/python3.6/dist-packages/tensorflow/python/training/saver.py:1070: get_checkpoint_mtimes (from tensorflow.python.training.checkpoint_management) is deprecated and will be removed in a future version.\n",
            "Instructions for updating:\n",
            "Use standard file utilities to get mtimes.\n",
            "100% (16559 of 16559) |###################| Elapsed Time: 0:39:18 Time:  0:39:18\n",
            "100% (1554 of 1554) |#####################| Elapsed Time: 0:01:42 Time:  0:01:42\n",
            " 29% (4855 of 16559) |#####               | Elapsed Time: 0:08:54 ETA:   0:23:25WARNING:tensorflow:From /usr/local/lib/python3.6/dist-packages/tensorflow/python/training/saver.py:966: remove_checkpoint (from tensorflow.python.training.checkpoint_management) is deprecated and will be removed in a future version.\n",
            "Instructions for updating:\n",
            "Use standard file APIs to delete files with this prefix.\n",
            "100% (16559 of 16559) |###################| Elapsed Time: 0:39:21 Time:  0:39:21\n",
            "100% (1554 of 1554) |#####################| Elapsed Time: 0:01:44 Time:  0:01:44\n",
            " 10% (1685 of 16559) |##                  | Elapsed Time: 0:02:57 ETA:   0:26:21"
          ],
          "name": "stdout"
        }
      ]
    },
    {
      "metadata": {
        "id": "iIxMCMpnwQ6N",
        "colab_type": "code",
        "outputId": "9bb6929c-2295-464f-864d-fc479be15891",
        "colab": {
          "base_uri": "https://localhost:8080/",
          "height": 513
        }
      },
      "cell_type": "code",
      "source": [
        "!deepspeech --model /deep_export/output_graph.pb --alphabet /DeepSpeech/data/alphabet.txt --lm /DeepSpeech/mixed-yt-echo-wiki-o5-prune2-24Jun18/lm.binary --trie /DeepSpeech/mixed-yt-echo-wiki-o5-prune2-24Jun18/trie --audio /DeepSpeech/data/tiny-dataset/tiny-test/ru_0054.wav"
      ],
      "execution_count": 0,
      "outputs": [
        {
          "output_type": "stream",
          "text": [
            "Loading model from file /deep_export/output_graph.pb\n",
            "TensorFlow: v1.13.1-8-g17f8188\n",
            "DeepSpeech: v0.5.0-alpha.4-0-gc092213\n",
            "Warning: reading entire model file into memory. Transform model file into an mmapped graph to reduce heap usage.\n",
            "2019-03-29 14:04:09.202552: I tensorflow/core/platform/cpu_feature_guard.cc:141] Your CPU supports instructions that this TensorFlow binary was not compiled to use: AVX2 FMA\n",
            "2019-03-29 14:04:09.296570: I tensorflow/stream_executor/cuda/cuda_gpu_executor.cc:998] successful NUMA node read from SysFS had negative value (-1), but there must be at least one NUMA node, so returning NUMA node zero\n",
            "2019-03-29 14:04:09.297035: I tensorflow/core/common_runtime/gpu/gpu_device.cc:1433] Found device 0 with properties: \n",
            "name: Tesla K80 major: 3 minor: 7 memoryClockRate(GHz): 0.8235\n",
            "pciBusID: 0000:00:04.0\n",
            "totalMemory: 11.17GiB freeMemory: 11.10GiB\n",
            "2019-03-29 14:04:09.297075: I tensorflow/core/common_runtime/gpu/gpu_device.cc:1512] Adding visible gpu devices: 0\n",
            "2019-03-29 14:04:09.591846: I tensorflow/core/common_runtime/gpu/gpu_device.cc:984] Device interconnect StreamExecutor with strength 1 edge matrix:\n",
            "2019-03-29 14:04:09.591920: I tensorflow/core/common_runtime/gpu/gpu_device.cc:990]      0 \n",
            "2019-03-29 14:04:09.591940: I tensorflow/core/common_runtime/gpu/gpu_device.cc:1003] 0:   N \n",
            "2019-03-29 14:04:09.592213: W tensorflow/core/common_runtime/gpu/gpu_bfc_allocator.cc:42] Overriding allow_growth setting because the TF_FORCE_GPU_ALLOW_GROWTH environment variable is set. Original config value was 0.\n",
            "2019-03-29 14:04:09.592285: I tensorflow/core/common_runtime/gpu/gpu_device.cc:1115] Created TensorFlow device (/job:localhost/replica:0/task:0/device:GPU:0 with 10764 MB memory) -> physical GPU (device: 0, name: Tesla K80, pci bus id: 0000:00:04.0, compute capability: 3.7)\n",
            "2019-03-29 14:04:09.597929: E tensorflow/core/framework/op_kernel.cc:1325] OpKernel ('op: \"UnwrapDatasetVariant\" device_type: \"CPU\"') for unknown op: UnwrapDatasetVariant\n",
            "2019-03-29 14:04:09.597979: E tensorflow/core/framework/op_kernel.cc:1325] OpKernel ('op: \"WrapDatasetVariant\" device_type: \"GPU\" host_memory_arg: \"input_handle\" host_memory_arg: \"output_handle\"') for unknown op: WrapDatasetVariant\n",
            "2019-03-29 14:04:09.598011: E tensorflow/core/framework/op_kernel.cc:1325] OpKernel ('op: \"WrapDatasetVariant\" device_type: \"CPU\"') for unknown op: WrapDatasetVariant\n",
            "2019-03-29 14:04:09.598157: E tensorflow/core/framework/op_kernel.cc:1325] OpKernel ('op: \"UnwrapDatasetVariant\" device_type: \"GPU\" host_memory_arg: \"input_handle\" host_memory_arg: \"output_handle\"') for unknown op: UnwrapDatasetVariant\n",
            "Loaded model in 0.398s.\n",
            "Loading language model from files /DeepSpeech/mixed-yt-echo-wiki-o5-prune2-24Jun18/lm.binary /DeepSpeech/mixed-yt-echo-wiki-o5-prune2-24Jun18/trie\n",
            "Error: Can't parse trie file, invalid header. Try updating your trie file.\n",
            "Loaded language model in 0.0288s.\n",
            "Running inference.\n",
            "2019-03-29 14:04:09.668214: I tensorflow/stream_executor/dso_loader.cc:152] successfully opened CUDA library libcublas.so.10.0 locally\n",
            "ёьёьпьёзёьёчёьёжёпёзёжёьёжьёьпьяьёьпьпьёьпьёьнжьёжяёьёяжьёьёьпьпьжьёжёпьнжёьжньжьжьжьжёьпьяжьёьёьжёжёжнжёжёжёжёжёжёжёжёжёжёжёжёжёжёжёжёжёьёьёьёь\n",
            "Inference took 1.544s for 6.700s audio file.\n"
          ],
          "name": "stdout"
        }
      ]
    },
    {
      "metadata": {
        "id": "1X5GyeVmsvIY",
        "colab_type": "code",
        "outputId": "40004113-be54-4983-cfad-8d83c7d2d79c",
        "colab": {
          "base_uri": "https://localhost:8080/",
          "height": 153
        }
      },
      "cell_type": "code",
      "source": [
        "# !tar xvfz samples-from-6k-dataset-28Jun18.tar.gz\n",
        "\n",
        "!tar xfvz yt-vad-650-clean.tar.gz"
      ],
      "execution_count": 0,
      "outputs": [
        {
          "output_type": "stream",
          "text": [
            "mixed-yt-echo-wiki-o5-prune2-24Jun18/\n",
            "mixed-yt-echo-wiki-o5-prune2-24Jun18/vocabulary.txt\n",
            "mixed-yt-echo-wiki-o5-prune2-24Jun18/lm.binary\n",
            "mixed-yt-echo-wiki-o5-prune2-24Jun18/trie\n",
            "mixed-yt-echo-wiki-o5-prune2-24Jun18/words.arpa\n",
            "mixed-yt-echo-wiki-o5-prune2-24Jun18/alphabet.txt\n",
            "tar: Removing leading `/' from member names\n",
            "\n"
          ],
          "name": "stdout"
        }
      ]
    },
    {
      "metadata": {
        "id": "Y9mVz7m1ekpu",
        "colab_type": "code",
        "outputId": "d8a9c4f1-1ffd-494f-d0f1-d32bfda1e81c",
        "colab": {
          "base_uri": "https://localhost:8080/",
          "height": 54
        }
      },
      "cell_type": "code",
      "source": [
        "# !ps aux | grep -v grep | grep DeepSpeech.py\n",
        "# !kill 2411"
      ],
      "execution_count": 0,
      "outputs": [
        {
          "output_type": "stream",
          "text": [
            "root        2411  182 79.2 51091456 10572332 ?   Sl   15:42  58:16 python3 -u DeepSpeech.py --train_files /datasets/yt-vad-650-clean/subsample-train.csv --dev_files /datasets/yt-vad-650-clean/subsample-dev.csv --test_files /datasets/yt-vad-650-clean/subsample-test.csv --train_batch_size 1 --dev_batch_size 1 --test_batch_size 1 --learning_rate 0.0001 --epoch 1 --display_step 0 --validation_step 1 --dropout_rate 0.3 --default_stddev 0.046875 --n_hidden 10 --checkpoint_dir /deep_checkpoints/ --export_dir /deep_export/ --log_level 2 --report_count 3 --xla=False --use_warpctc=True --lm_binary_path /DeepSpeech/mixed-yt-echo-wiki-o5-prune2-24Jun18/lm.binary\n"
          ],
          "name": "stdout"
        }
      ]
    },
    {
      "metadata": {
        "id": "lRYM9GY7EqyY",
        "colab_type": "code",
        "outputId": "222a8a87-6474-462f-fad1-b232de139dbb",
        "colab": {
          "base_uri": "https://localhost:8080/",
          "height": 306
        }
      },
      "cell_type": "code",
      "source": [
        "!nvidia-smi"
      ],
      "execution_count": 0,
      "outputs": [
        {
          "output_type": "stream",
          "text": [
            "Sat Mar 30 13:44:59 2019       \n",
            "+-----------------------------------------------------------------------------+\n",
            "| NVIDIA-SMI 418.56       Driver Version: 410.79       CUDA Version: 10.0     |\n",
            "|-------------------------------+----------------------+----------------------+\n",
            "| GPU  Name        Persistence-M| Bus-Id        Disp.A | Volatile Uncorr. ECC |\n",
            "| Fan  Temp  Perf  Pwr:Usage/Cap|         Memory-Usage | GPU-Util  Compute M. |\n",
            "|===============================+======================+======================|\n",
            "|   0  Tesla K80           Off  | 00000000:00:04.0 Off |                    0 |\n",
            "| N/A   30C    P8    29W / 149W |      0MiB / 11441MiB |      0%      Default |\n",
            "+-------------------------------+----------------------+----------------------+\n",
            "                                                                               \n",
            "+-----------------------------------------------------------------------------+\n",
            "| Processes:                                                       GPU Memory |\n",
            "|  GPU       PID   Type   Process name                             Usage      |\n",
            "|=============================================================================|\n",
            "|  No running processes found                                                 |\n",
            "+-----------------------------------------------------------------------------+\n"
          ],
          "name": "stdout"
        }
      ]
    },
    {
      "metadata": {
        "id": "GyxhLWTSEq0y",
        "colab_type": "code",
        "colab": {}
      },
      "cell_type": "code",
      "source": [
        "!bash bin/train-tiny-dataset.sh"
      ],
      "execution_count": 0,
      "outputs": []
    },
    {
      "metadata": {
        "id": "ZM7UfOGjEq3m",
        "colab_type": "code",
        "colab": {}
      },
      "cell_type": "code",
      "source": [
        "!python /DeepSpeech/DeepSpeech.py --train_files /DeepSpeech/data/tiny-dataset/tiny-train.csv --dev_files /DeepSpeech/data/tiny-dataset/tiny-dev.csv --test_files /DeepSpeech/data/tiny-dataset/tiny-test.csv"
      ],
      "execution_count": 0,
      "outputs": []
    },
    {
      "metadata": {
        "id": "YOyTDYLeEq5t",
        "colab_type": "code",
        "colab": {}
      },
      "cell_type": "code",
      "source": [
        "# !python /DeepSpeech/DeepSpeech.py --train_files /DeepSpeech/data/tiny-dataset/tiny-train.csv --dev_files /DeepSpeech/data/tiny-dataset/tiny-dev.csv --test_files /DeepSpeech/data/tiny-dataset/tiny-test.csv"
      ],
      "execution_count": 0,
      "outputs": []
    }
  ]
}