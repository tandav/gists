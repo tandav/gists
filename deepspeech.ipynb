{
  "nbformat": 4,
  "nbformat_minor": 0,
  "metadata": {
    "colab": {
      "name": "deepspeech.ipynb",
      "version": "0.3.2",
      "provenance": [],
      "collapsed_sections": [],
      "include_colab_link": true
    },
    "kernelspec": {
      "name": "python3",
      "display_name": "Python 3"
    },
    "accelerator": "GPU"
  },
  "cells": [
    {
      "cell_type": "markdown",
      "metadata": {
        "id": "view-in-github",
        "colab_type": "text"
      },
      "source": [
        "<a href=\"https://colab.research.google.com/github/tandav/gists/blob/master/deepspeech.ipynb\" target=\"_parent\"><img src=\"https://colab.research.google.com/assets/colab-badge.svg\" alt=\"Open In Colab\"/></a>"
      ]
    },
    {
      "metadata": {
        "id": "kV68ojZ_jIAa",
        "colab_type": "code",
        "outputId": "1569555a-bbac-4a8e-d69d-ef97b9d89799",
        "colab": {
          "base_uri": "https://localhost:8080/",
          "height": 71
        }
      },
      "cell_type": "code",
      "source": [
        "!pip install deepspeech-gpu==0.5.0a4"
      ],
      "execution_count": 2,
      "outputs": [
        {
          "output_type": "stream",
          "text": [
            "Requirement already satisfied: deepspeech-gpu==0.5.0a4 in /usr/local/lib/python3.6/dist-packages (0.5.0a4)\n",
            "Requirement already satisfied: numpy>=1.7.0 in /usr/local/lib/python3.6/dist-packages (from deepspeech-gpu==0.5.0a4) (1.14.6)\n"
          ],
          "name": "stdout"
        }
      ]
    },
    {
      "metadata": {
        "id": "jKCIcH0h_B_3",
        "colab_type": "code",
        "colab": {
          "base_uri": "https://localhost:8080/",
          "height": 68
        },
        "outputId": "d284e9da-6e82-482b-9162-0aff5902ec90"
      },
      "cell_type": "code",
      "source": [
        "!deepspeech"
      ],
      "execution_count": 3,
      "outputs": [
        {
          "output_type": "stream",
          "text": [
            "usage: deepspeech [-h] --model MODEL --alphabet ALPHABET [--lm [LM]]\n",
            "                  [--trie [TRIE]] --audio AUDIO [--version]\n",
            "deepspeech: error: the following arguments are required: --model, --alphabet, --audio\n"
          ],
          "name": "stdout"
        }
      ]
    },
    {
      "metadata": {
        "id": "Io9xCFfODkje",
        "colab_type": "code",
        "colab": {
          "base_uri": "https://localhost:8080/",
          "height": 136
        },
        "outputId": "f5e60ba0-469b-4895-b5fd-b1b8ca9bbefc"
      },
      "cell_type": "code",
      "source": [
        "!git clone https://github.com/mozilla/DeepSpeech /DeepSpeech"
      ],
      "execution_count": 4,
      "outputs": [
        {
          "output_type": "stream",
          "text": [
            "Cloning into '/DeepSpeech'...\n",
            "remote: Enumerating objects: 126, done.\u001b[K\n",
            "remote: Counting objects:   0% (1/126)   \u001b[K\rremote: Counting objects:   1% (2/126)   \u001b[K\rremote: Counting objects:   2% (3/126)   \u001b[K\rremote: Counting objects:   3% (4/126)   \u001b[K\rremote: Counting objects:   4% (6/126)   \u001b[K\rremote: Counting objects:   5% (7/126)   \u001b[K\rremote: Counting objects:   6% (8/126)   \u001b[K\rremote: Counting objects:   7% (9/126)   \u001b[K\rremote: Counting objects:   8% (11/126)   \u001b[K\rremote: Counting objects:   9% (12/126)   \u001b[K\rremote: Counting objects:  10% (13/126)   \u001b[K\rremote: Counting objects:  11% (14/126)   \u001b[K\rremote: Counting objects:  12% (16/126)   \u001b[K\rremote: Counting objects:  13% (17/126)   \u001b[K\rremote: Counting objects:  14% (18/126)   \u001b[K\rremote: Counting objects:  15% (19/126)   \u001b[K\rremote: Counting objects:  16% (21/126)   \u001b[K\rremote: Counting objects:  17% (22/126)   \u001b[K\rremote: Counting objects:  18% (23/126)   \u001b[K\rremote: Counting objects:  19% (24/126)   \u001b[K\rremote: Counting objects:  20% (26/126)   \u001b[K\rremote: Counting objects:  21% (27/126)   \u001b[K\rremote: Counting objects:  22% (28/126)   \u001b[K\rremote: Counting objects:  23% (29/126)   \u001b[K\rremote: Counting objects:  24% (31/126)   \u001b[K\rremote: Counting objects:  25% (32/126)   \u001b[K\rremote: Counting objects:  26% (33/126)   \u001b[K\rremote: Counting objects:  27% (35/126)   \u001b[K\rremote: Counting objects:  28% (36/126)   \u001b[K\rremote: Counting objects:  29% (37/126)   \u001b[K\rremote: Counting objects:  30% (38/126)   \u001b[K\rremote: Counting objects:  31% (40/126)   \u001b[K\rremote: Counting objects:  32% (41/126)   \u001b[K\rremote: Counting objects:  33% (42/126)   \u001b[K\rremote: Counting objects:  34% (43/126)   \u001b[K\rremote: Counting objects:  35% (45/126)   \u001b[K\rremote: Counting objects:  36% (46/126)   \u001b[K\rremote: Counting objects:  37% (47/126)   \u001b[K\rremote: Counting objects:  38% (48/126)   \u001b[K\rremote: Counting objects:  39% (50/126)   \u001b[K\rremote: Counting objects:  40% (51/126)   \u001b[K\rremote: Counting objects:  41% (52/126)   \u001b[K\rremote: Counting objects:  42% (53/126)   \u001b[K\rremote: Counting objects:  43% (55/126)   \u001b[K\rremote: Counting objects:  44% (56/126)   \u001b[K\rremote: Counting objects:  45% (57/126)   \u001b[K\rremote: Counting objects:  46% (58/126)   \u001b[K\rremote: Counting objects:  47% (60/126)   \u001b[K\rremote: Counting objects:  48% (61/126)   \u001b[K\rremote: Counting objects:  49% (62/126)   \u001b[K\rremote: Counting objects:  50% (63/126)   \u001b[K\rremote: Counting objects:  51% (65/126)   \u001b[K\rremote: Counting objects:  52% (66/126)   \u001b[K\rremote: Counting objects:  53% (67/126)   \u001b[K\rremote: Counting objects:  54% (69/126)   \u001b[K\rremote: Counting objects:  55% (70/126)   \u001b[K\rremote: Counting objects:  56% (71/126)   \u001b[K\rremote: Counting objects:  57% (72/126)   \u001b[K\rremote: Counting objects:  58% (74/126)   \u001b[K\rremote: Counting objects:  59% (75/126)   \u001b[K\rremote: Counting objects:  60% (76/126)   \rremote: Counting objects:  61% (77/126)   \u001b[K\rremote: Counting objects:  62% (79/126)   \u001b[K\rremote: Counting objects:  63% (80/126)   \u001b[K\rremote: Counting objects:  64% (81/126)   \u001b[K\rremote: Counting objects:  65% (82/126)   \u001b[K\rremote: Counting objects:  66% (84/126)   \u001b[K\rremote: Counting objects:  67% (85/126)   \u001b[K\rremote: Counting objects:  68% (86/126)   \u001b[K\rremote: Counting objects:  69% (87/126)   \u001b[K\rremote: Counting objects:  70% (89/126)   \u001b[K\rremote: Counting objects:  71% (90/126)   \u001b[K\rremote: Counting objects:  72% (91/126)   \u001b[K\rremote: Counting objects:  73% (92/126)   \u001b[K\rremote: Counting objects:  74% (94/126)   \u001b[K\rremote: Counting objects:  75% (95/126)   \u001b[K\rremote: Counting objects:  76% (96/126)   \u001b[K\rremote: Counting objects:  77% (98/126)   \u001b[K\rremote: Counting objects:  78% (99/126)   \u001b[K\rremote: Counting objects:  79% (100/126)   \u001b[K\rremote: Counting objects:  80% (101/126)   \u001b[K\rremote: Counting objects:  81% (103/126)   \u001b[K\rremote: Counting objects:  82% (104/126)   \u001b[K\rremote: Counting objects:  83% (105/126)   \u001b[K\rremote: Counting objects:  84% (106/126)   \u001b[K\rremote: Counting objects:  85% (108/126)   \u001b[K\rremote: Counting objects:  86% (109/126)   \u001b[K\rremote: Counting objects:  87% (110/126)   \u001b[K\rremote: Counting objects:  88% (111/126)   \u001b[K\rremote: Counting objects:  89% (113/126)   \u001b[K\rremote: Counting objects:  90% (114/126)   \u001b[K\rremote: Counting objects:  91% (115/126)   \u001b[K\rremote: Counting objects:  92% (116/126)   \u001b[K\rremote: Counting objects:  93% (118/126)   \u001b[K\rremote: Counting objects:  94% (119/126)   \u001b[K\rremote: Counting objects:  95% (120/126)   \u001b[K\rremote: Counting objects:  96% (121/126)   \u001b[K\rremote: Counting objects:  97% (123/126)   \u001b[K\rremote: Counting objects:  98% (124/126)   \u001b[K\rremote: Counting objects:  99% (125/126)   \u001b[K\rremote: Counting objects: 100% (126/126)   \u001b[K\rremote: Counting objects: 100% (126/126), done.\u001b[K\n",
            "remote: Compressing objects: 100% (82/82), done.\u001b[K\n",
            "remote: Total 10623 (delta 66), reused 82 (delta 44), pack-reused 10497\u001b[K\n",
            "Receiving objects: 100% (10623/10623), 45.01 MiB | 22.86 MiB/s, done.\n",
            "Resolving deltas: 100% (6716/6716), done.\n"
          ],
          "name": "stdout"
        }
      ]
    },
    {
      "metadata": {
        "id": "duJEVRy_wAvu",
        "colab_type": "code",
        "colab": {}
      },
      "cell_type": "code",
      "source": [
        ""
      ],
      "execution_count": 0,
      "outputs": []
    },
    {
      "metadata": {
        "id": "fZh9DQR__B9Z",
        "colab_type": "code",
        "colab": {}
      },
      "cell_type": "code",
      "source": [
        "import os\n",
        "os.chdir('/DeepSpeech')"
      ],
      "execution_count": 0,
      "outputs": []
    },
    {
      "metadata": {
        "id": "8xrVO0RA_B7H",
        "colab_type": "code",
        "colab": {
          "base_uri": "https://localhost:8080/",
          "height": 1653
        },
        "outputId": "55cbf3a5-2c1d-4426-d0ca-d12408af314c"
      },
      "cell_type": "code",
      "source": [
        "!pip3 install -r requirements.txt"
      ],
      "execution_count": 6,
      "outputs": [
        {
          "output_type": "stream",
          "text": [
            "Requirement already satisfied: pandas in /usr/local/lib/python3.6/dist-packages (from -r requirements.txt (line 1)) (0.22.0)\n",
            "Requirement already satisfied: progressbar2 in /usr/local/lib/python3.6/dist-packages (from -r requirements.txt (line 2)) (3.38.0)\n",
            "Requirement already satisfied: python-utils in /usr/local/lib/python3.6/dist-packages (from -r requirements.txt (line 3)) (2.3.0)\n",
            "Requirement already satisfied: tensorflow==1.13.1 in /usr/local/lib/python3.6/dist-packages (from -r requirements.txt (line 4)) (1.13.1)\n",
            "Collecting numpy==1.15.4 (from -r requirements.txt (line 5))\n",
            "\u001b[?25l  Downloading https://files.pythonhosted.org/packages/ff/7f/9d804d2348471c67a7d8b5f84f9bc59fd1cefa148986f2b74552f8573555/numpy-1.15.4-cp36-cp36m-manylinux1_x86_64.whl (13.9MB)\n",
            "\u001b[K    100% |████████████████████████████████| 13.9MB 2.6MB/s \n",
            "\u001b[?25hRequirement already satisfied: matplotlib in /usr/local/lib/python3.6/dist-packages (from -r requirements.txt (line 6)) (3.0.3)\n",
            "Requirement already satisfied: scipy in /usr/local/lib/python3.6/dist-packages (from -r requirements.txt (line 7)) (1.1.0)\n",
            "Collecting sox (from -r requirements.txt (line 8))\n",
            "  Downloading https://files.pythonhosted.org/packages/60/a0/5bee540554af8376e0313e462629d95bf2f2bc3c8cb60697aa01254e6cf5/sox-1.3.7-py2.py3-none-any.whl\n",
            "Collecting paramiko>=2.1 (from -r requirements.txt (line 9))\n",
            "\u001b[?25l  Downloading https://files.pythonhosted.org/packages/cf/ae/94e70d49044ccc234bfdba20114fa947d7ba6eb68a2e452d89b920e62227/paramiko-2.4.2-py2.py3-none-any.whl (193kB)\n",
            "\u001b[K    100% |████████████████████████████████| 194kB 28.9MB/s \n",
            "\u001b[?25hCollecting python_speech_features (from -r requirements.txt (line 10))\n",
            "  Downloading https://files.pythonhosted.org/packages/ff/d1/94c59e20a2631985fbd2124c45177abaa9e0a4eee8ba8a305aa26fc02a8e/python_speech_features-0.6.tar.gz\n",
            "Collecting pyxdg (from -r requirements.txt (line 11))\n",
            "\u001b[?25l  Downloading https://files.pythonhosted.org/packages/39/03/12eb9062f43adb94e30f366743cb5c83fd15fef026500cd4de42c7c12280/pyxdg-0.26-py2.py3-none-any.whl (40kB)\n",
            "\u001b[K    100% |████████████████████████████████| 40kB 19.0MB/s \n",
            "\u001b[?25hRequirement already satisfied: bs4 in /usr/local/lib/python3.6/dist-packages (from -r requirements.txt (line 12)) (0.0.1)\n",
            "Requirement already satisfied: six in /usr/local/lib/python3.6/dist-packages (from -r requirements.txt (line 13)) (1.11.0)\n",
            "Requirement already satisfied: requests in /usr/local/lib/python3.6/dist-packages (from -r requirements.txt (line 14)) (2.18.4)\n",
            "Requirement already satisfied: tables in /usr/local/lib/python3.6/dist-packages (from -r requirements.txt (line 15)) (3.4.4)\n",
            "Collecting attrdict (from -r requirements.txt (line 16))\n",
            "  Downloading https://files.pythonhosted.org/packages/ef/97/28fe7e68bc7adfce67d4339756e85e9fcf3c6fd7f0c0781695352b70472c/attrdict-2.0.1-py2.py3-none-any.whl\n",
            "Requirement already satisfied: setuptools in /usr/local/lib/python3.6/dist-packages (from -r requirements.txt (line 17)) (40.8.0)\n",
            "Requirement already satisfied: librosa in /usr/local/lib/python3.6/dist-packages (from -r requirements.txt (line 18)) (0.6.3)\n",
            "Collecting soundfile (from -r requirements.txt (line 19))\n",
            "  Downloading https://files.pythonhosted.org/packages/68/64/1191352221e2ec90db7492b4bf0c04fd9d2508de67b3f39cbf093cd6bd86/SoundFile-0.10.2-py2.py3-none-any.whl\n",
            "Requirement already satisfied: pytz>=2011k in /usr/local/lib/python3.6/dist-packages (from pandas->-r requirements.txt (line 1)) (2018.9)\n",
            "Requirement already satisfied: python-dateutil>=2 in /usr/local/lib/python3.6/dist-packages (from pandas->-r requirements.txt (line 1)) (2.5.3)\n",
            "Requirement already satisfied: astor>=0.6.0 in /usr/local/lib/python3.6/dist-packages (from tensorflow==1.13.1->-r requirements.txt (line 4)) (0.7.1)\n",
            "Requirement already satisfied: gast>=0.2.0 in /usr/local/lib/python3.6/dist-packages (from tensorflow==1.13.1->-r requirements.txt (line 4)) (0.2.2)\n",
            "Requirement already satisfied: absl-py>=0.1.6 in /usr/local/lib/python3.6/dist-packages (from tensorflow==1.13.1->-r requirements.txt (line 4)) (0.7.1)\n",
            "Requirement already satisfied: grpcio>=1.8.6 in /usr/local/lib/python3.6/dist-packages (from tensorflow==1.13.1->-r requirements.txt (line 4)) (1.15.0)\n",
            "Requirement already satisfied: tensorflow-estimator<1.14.0rc0,>=1.13.0 in /usr/local/lib/python3.6/dist-packages (from tensorflow==1.13.1->-r requirements.txt (line 4)) (1.13.0)\n",
            "Requirement already satisfied: wheel>=0.26 in /usr/local/lib/python3.6/dist-packages (from tensorflow==1.13.1->-r requirements.txt (line 4)) (0.33.1)\n",
            "Requirement already satisfied: protobuf>=3.6.1 in /usr/local/lib/python3.6/dist-packages (from tensorflow==1.13.1->-r requirements.txt (line 4)) (3.7.0)\n",
            "Requirement already satisfied: termcolor>=1.1.0 in /usr/local/lib/python3.6/dist-packages (from tensorflow==1.13.1->-r requirements.txt (line 4)) (1.1.0)\n",
            "Requirement already satisfied: keras-preprocessing>=1.0.5 in /usr/local/lib/python3.6/dist-packages (from tensorflow==1.13.1->-r requirements.txt (line 4)) (1.0.9)\n",
            "Requirement already satisfied: tensorboard<1.14.0,>=1.13.0 in /usr/local/lib/python3.6/dist-packages (from tensorflow==1.13.1->-r requirements.txt (line 4)) (1.13.1)\n",
            "Requirement already satisfied: keras-applications>=1.0.6 in /usr/local/lib/python3.6/dist-packages (from tensorflow==1.13.1->-r requirements.txt (line 4)) (1.0.7)\n",
            "Requirement already satisfied: kiwisolver>=1.0.1 in /usr/local/lib/python3.6/dist-packages (from matplotlib->-r requirements.txt (line 6)) (1.0.1)\n",
            "Requirement already satisfied: cycler>=0.10 in /usr/local/lib/python3.6/dist-packages (from matplotlib->-r requirements.txt (line 6)) (0.10.0)\n",
            "Requirement already satisfied: pyparsing!=2.0.4,!=2.1.2,!=2.1.6,>=2.0.1 in /usr/local/lib/python3.6/dist-packages (from matplotlib->-r requirements.txt (line 6)) (2.3.1)\n",
            "Requirement already satisfied: pyasn1>=0.1.7 in /usr/local/lib/python3.6/dist-packages (from paramiko>=2.1->-r requirements.txt (line 9)) (0.4.5)\n",
            "Collecting bcrypt>=3.1.3 (from paramiko>=2.1->-r requirements.txt (line 9))\n",
            "\u001b[?25l  Downloading https://files.pythonhosted.org/packages/d0/79/79a4d167a31cc206117d9b396926615fa9c1fdbd52017bcced80937ac501/bcrypt-3.1.6-cp34-abi3-manylinux1_x86_64.whl (55kB)\n",
            "\u001b[K    100% |████████████████████████████████| 61kB 24.1MB/s \n",
            "\u001b[?25hCollecting pynacl>=1.0.1 (from paramiko>=2.1->-r requirements.txt (line 9))\n",
            "\u001b[?25l  Downloading https://files.pythonhosted.org/packages/27/15/2cd0a203f318c2240b42cd9dd13c931ddd61067809fee3479f44f086103e/PyNaCl-1.3.0-cp34-abi3-manylinux1_x86_64.whl (759kB)\n",
            "\u001b[K    100% |████████████████████████████████| 768kB 16.4MB/s \n",
            "\u001b[?25hCollecting cryptography>=1.5 (from paramiko>=2.1->-r requirements.txt (line 9))\n",
            "\u001b[?25l  Downloading https://files.pythonhosted.org/packages/5b/12/b0409a94dad366d98a8eee2a77678c7a73aafd8c0e4b835abea634ea3896/cryptography-2.6.1-cp34-abi3-manylinux1_x86_64.whl (2.3MB)\n",
            "\u001b[K    100% |████████████████████████████████| 2.3MB 14.0MB/s \n",
            "\u001b[?25hRequirement already satisfied: beautifulsoup4 in /usr/local/lib/python3.6/dist-packages (from bs4->-r requirements.txt (line 12)) (4.6.3)\n",
            "Requirement already satisfied: idna<2.7,>=2.5 in /usr/local/lib/python3.6/dist-packages (from requests->-r requirements.txt (line 14)) (2.6)\n",
            "Requirement already satisfied: certifi>=2017.4.17 in /usr/local/lib/python3.6/dist-packages (from requests->-r requirements.txt (line 14)) (2019.3.9)\n",
            "Requirement already satisfied: urllib3<1.23,>=1.21.1 in /usr/local/lib/python3.6/dist-packages (from requests->-r requirements.txt (line 14)) (1.22)\n",
            "Requirement already satisfied: chardet<3.1.0,>=3.0.2 in /usr/local/lib/python3.6/dist-packages (from requests->-r requirements.txt (line 14)) (3.0.4)\n",
            "Requirement already satisfied: numexpr>=2.5.2 in /usr/local/lib/python3.6/dist-packages (from tables->-r requirements.txt (line 15)) (2.6.9)\n",
            "Requirement already satisfied: audioread>=2.0.0 in /usr/local/lib/python3.6/dist-packages (from librosa->-r requirements.txt (line 18)) (2.1.6)\n",
            "Requirement already satisfied: scikit-learn!=0.19.0,>=0.14.0 in /usr/local/lib/python3.6/dist-packages (from librosa->-r requirements.txt (line 18)) (0.20.3)\n",
            "Requirement already satisfied: joblib>=0.12 in /usr/local/lib/python3.6/dist-packages (from librosa->-r requirements.txt (line 18)) (0.12.5)\n",
            "Requirement already satisfied: decorator>=3.0.0 in /usr/local/lib/python3.6/dist-packages (from librosa->-r requirements.txt (line 18)) (4.4.0)\n",
            "Requirement already satisfied: resampy>=0.2.0 in /usr/local/lib/python3.6/dist-packages (from librosa->-r requirements.txt (line 18)) (0.2.1)\n",
            "Requirement already satisfied: numba>=0.38.0 in /usr/local/lib/python3.6/dist-packages (from librosa->-r requirements.txt (line 18)) (0.40.1)\n",
            "Requirement already satisfied: cffi>=1.0 in /usr/local/lib/python3.6/dist-packages (from soundfile->-r requirements.txt (line 19)) (1.12.2)\n",
            "Requirement already satisfied: mock>=2.0.0 in /usr/local/lib/python3.6/dist-packages (from tensorflow-estimator<1.14.0rc0,>=1.13.0->tensorflow==1.13.1->-r requirements.txt (line 4)) (2.0.0)\n",
            "Requirement already satisfied: werkzeug>=0.11.15 in /usr/local/lib/python3.6/dist-packages (from tensorboard<1.14.0,>=1.13.0->tensorflow==1.13.1->-r requirements.txt (line 4)) (0.14.1)\n",
            "Requirement already satisfied: markdown>=2.6.8 in /usr/local/lib/python3.6/dist-packages (from tensorboard<1.14.0,>=1.13.0->tensorflow==1.13.1->-r requirements.txt (line 4)) (3.0.1)\n",
            "Requirement already satisfied: h5py in /usr/local/lib/python3.6/dist-packages (from keras-applications>=1.0.6->tensorflow==1.13.1->-r requirements.txt (line 4)) (2.8.0)\n",
            "Collecting asn1crypto>=0.21.0 (from cryptography>=1.5->paramiko>=2.1->-r requirements.txt (line 9))\n",
            "\u001b[?25l  Downloading https://files.pythonhosted.org/packages/ea/cd/35485615f45f30a510576f1a56d1e0a7ad7bd8ab5ed7cdc600ef7cd06222/asn1crypto-0.24.0-py2.py3-none-any.whl (101kB)\n",
            "\u001b[K    100% |████████████████████████████████| 102kB 29.0MB/s \n",
            "\u001b[?25hRequirement already satisfied: llvmlite>=0.25.0dev0 in /usr/local/lib/python3.6/dist-packages (from numba>=0.38.0->librosa->-r requirements.txt (line 18)) (0.28.0)\n",
            "Requirement already satisfied: pycparser in /usr/local/lib/python3.6/dist-packages (from cffi>=1.0->soundfile->-r requirements.txt (line 19)) (2.19)\n",
            "Requirement already satisfied: pbr>=0.11 in /usr/local/lib/python3.6/dist-packages (from mock>=2.0.0->tensorflow-estimator<1.14.0rc0,>=1.13.0->tensorflow==1.13.1->-r requirements.txt (line 4)) (5.1.3)\n",
            "Building wheels for collected packages: python-speech-features\n",
            "  Building wheel for python-speech-features (setup.py) ... \u001b[?25ldone\n",
            "\u001b[?25h  Stored in directory: /root/.cache/pip/wheels/3c/42/7c/f60e9d1b40015cd69b213ad90f7c18a9264cd745b9888134be\n",
            "Successfully built python-speech-features\n",
            "\u001b[31mfeaturetools 0.4.1 has requirement pandas>=0.23.0, but you'll have pandas 0.22.0 which is incompatible.\u001b[0m\n",
            "\u001b[31mdatascience 0.10.6 has requirement folium==0.2.1, but you'll have folium 0.8.3 which is incompatible.\u001b[0m\n",
            "\u001b[31malbumentations 0.1.12 has requirement imgaug<0.2.7,>=0.2.5, but you'll have imgaug 0.2.8 which is incompatible.\u001b[0m\n",
            "Installing collected packages: numpy, sox, bcrypt, pynacl, asn1crypto, cryptography, paramiko, python-speech-features, pyxdg, attrdict, soundfile\n",
            "  Found existing installation: numpy 1.14.6\n",
            "    Uninstalling numpy-1.14.6:\n",
            "      Successfully uninstalled numpy-1.14.6\n",
            "Successfully installed asn1crypto-0.24.0 attrdict-2.0.1 bcrypt-3.1.6 cryptography-2.6.1 numpy-1.15.4 paramiko-2.4.2 pynacl-1.3.0 python-speech-features-0.6 pyxdg-0.26 soundfile-0.10.2 sox-1.3.7\n"
          ],
          "name": "stdout"
        },
        {
          "output_type": "display_data",
          "data": {
            "application/vnd.colab-display-data+json": {
              "pip_warning": {
                "packages": [
                  "numpy"
                ]
              }
            }
          },
          "metadata": {
            "tags": []
          }
        }
      ]
    },
    {
      "metadata": {
        "id": "sgJldTV8D8JH",
        "colab_type": "code",
        "colab": {
          "base_uri": "https://localhost:8080/",
          "height": 139
        },
        "outputId": "2b61cbf8-2601-4489-d61f-7809e1c31f5f"
      },
      "cell_type": "code",
      "source": [
        "!pip3 install $(python3 util/taskcluster.py --decoder)"
      ],
      "execution_count": 7,
      "outputs": [
        {
          "output_type": "stream",
          "text": [
            "Collecting ds-ctcdecoder==0.5.0a4 from https://index.taskcluster.net/v1/task/project.deepspeech.deepspeech.native_client.v0.5.0-alpha.4.cpu-ctc/artifacts/public/ds_ctcdecoder-0.5.0a4-cp36-cp36m-manylinux1_x86_64.whl\n",
            "\u001b[?25l  Downloading https://index.taskcluster.net/v1/task/project.deepspeech.deepspeech.native_client.v0.5.0-alpha.4.cpu-ctc/artifacts/public/ds_ctcdecoder-0.5.0a4-cp36-cp36m-manylinux1_x86_64.whl (1.6MB)\n",
            "\u001b[K    100% |████████████████████████████████| 1.6MB 17.4MB/s \n",
            "\u001b[?25hRequirement already satisfied: numpy>=1.7.0 in /usr/local/lib/python3.6/dist-packages (from ds-ctcdecoder==0.5.0a4) (1.15.4)\n",
            "Installing collected packages: ds-ctcdecoder\n",
            "Successfully installed ds-ctcdecoder-0.5.0a4\n"
          ],
          "name": "stdout"
        }
      ]
    },
    {
      "metadata": {
        "id": "w-qgjfStEWYA",
        "colab_type": "code",
        "colab": {
          "base_uri": "https://localhost:8080/",
          "height": 102
        },
        "outputId": "bb1d32d1-f6e5-4f3f-e21f-0396b773a456"
      },
      "cell_type": "code",
      "source": [
        "!git clone https://github.com/GeorgeFedoseev/DeepSpeech /GeorgeFedoseevDeepSpeech"
      ],
      "execution_count": 8,
      "outputs": [
        {
          "output_type": "stream",
          "text": [
            "Cloning into '/GeorgeFedoseevDeepSpeech'...\n",
            "remote: Enumerating objects: 7654, done.\u001b[K\n",
            "remote: Total 7654 (delta 0), reused 0 (delta 0), pack-reused 7654\u001b[K\n",
            "Receiving objects: 100% (7654/7654), 130.33 MiB | 27.45 MiB/s, done.\n",
            "Resolving deltas: 100% (4976/4976), done.\n"
          ],
          "name": "stdout"
        }
      ]
    },
    {
      "metadata": {
        "id": "xjBF3YiYEcdR",
        "colab_type": "code",
        "colab": {}
      },
      "cell_type": "code",
      "source": [
        "!mv /DeepSpeech/data /DeepSpeech/moz_data\n",
        "!mv /GeorgeFedoseevDeepSpeech/data /DeepSpeech/data"
      ],
      "execution_count": 0,
      "outputs": []
    },
    {
      "metadata": {
        "id": "PxN_0PxAhQmV",
        "colab_type": "code",
        "colab": {}
      },
      "cell_type": "code",
      "source": [
        "# !python -u DeepSpeech.py --helpfull"
      ],
      "execution_count": 0,
      "outputs": []
    },
    {
      "metadata": {
        "id": "y1E9ufV2dpdx",
        "colab_type": "code",
        "colab": {}
      },
      "cell_type": "code",
      "source": [
        "# !cat /DeepSpeech/data/alphabet.txt"
      ],
      "execution_count": 0,
      "outputs": []
    },
    {
      "metadata": {
        "id": "gP7m-o3RFGZZ",
        "colab_type": "code",
        "colab": {
          "base_uri": "https://localhost:8080/",
          "height": 1176
        },
        "outputId": "0b728b73-a053-4467-e030-46b9f24b0d83"
      },
      "cell_type": "code",
      "source": [
        "!sh /GeorgeFedoseevDeepSpeech/bin/train-tiny-dataset.sh"
      ],
      "execution_count": 7,
      "outputs": [
        {
          "output_type": "stream",
          "text": [
            "+ [ ! -f DeepSpeech.py ]\n",
            "+ python -u DeepSpeech.py --train_files /DeepSpeech/data/tiny-dataset/tiny-train.csv --dev_files /DeepSpeech/data/tiny-dataset/tiny-dev.csv --test_files /DeepSpeech/data/tiny-dataset/tiny-test.csv --train_batch_size 1 --dev_batch_size 1 --test_batch_size 1 --learning_rate 0.0001 --epoch 35 --display_step 0 --validation_step 1 --dropout_rate 0.3 --default_stddev 0.046875 --n_hidden 512 --checkpoint_dir /network/tiny-dataset-512/tiny-dataset-512-checkpoints/ --export_dir /network/tiny-dataset-512/tiny-dataset-512-export/ --log_level 1 --report_count 3 --xla=False --use_warpctc=True --log_telegram=True\n",
            "2019-03-28 16:14:23.629062: W tensorflow/core/common_runtime/gpu/gpu_bfc_allocator.cc:42] Overriding allow_growth setting because the TF_FORCE_GPU_ALLOW_GROWTH environment variable is set. Original config value was 0.\n",
            "WARNING:tensorflow:From /usr/local/lib/python3.6/dist-packages/tensorflow/python/framework/op_def_library.py:263: colocate_with (from tensorflow.python.framework.ops) is deprecated and will be removed in a future version.\n",
            "Instructions for updating:\n",
            "Colocations handled automatically by placer.\n",
            "Preprocessing ['/DeepSpeech/data/tiny-dataset/tiny-train.csv']\n",
            "Preprocessing done\n",
            "Preprocessing ['/DeepSpeech/data/tiny-dataset/tiny-dev.csv']\n",
            "Preprocessing done\n",
            "WARNING:tensorflow:From /usr/local/lib/python3.6/dist-packages/tensorflow/contrib/rnn/python/ops/lstm_ops.py:696: to_int64 (from tensorflow.python.ops.math_ops) is deprecated and will be removed in a future version.\n",
            "Instructions for updating:\n",
            "Use tf.cast instead.\n",
            "I STARTING Optimization\n",
            "I Training epoch 0...\n",
            "I Training of Epoch 0 - loss: 335.698237\n",
            "100% (21 of 21) |#########################| Elapsed Time: 0:00:02 Time:  0:00:02\n",
            "I Validating epoch 0...\n",
            "I Validation of Epoch 0 - loss: 273.125071\n",
            "100% (3 of 3) |###########################| Elapsed Time: 0:00:00 Time:  0:00:00\n",
            "I Training epoch 1...\n",
            "I Training of Epoch 1 - loss: 302.632745\n",
            "100% (21 of 21) |#########################| Elapsed Time: 0:00:02 Time:  0:00:02\n",
            "I Validating epoch 1...\n",
            "I Validation of Epoch 1 - loss: 284.267090\n",
            "100% (3 of 3) |###########################| Elapsed Time: 0:00:00 Time:  0:00:00\n",
            "I Training epoch 2...\n",
            "I Training of Epoch 2 - loss: 293.251910\n",
            "100% (21 of 21) |#########################| Elapsed Time: 0:00:02 Time:  0:00:02\n",
            "I Validating epoch 2...\n",
            "I Validation of Epoch 2 - loss: 298.033315\n",
            "100% (3 of 3) |###########################| Elapsed Time: 0:00:00 Time:  0:00:00\n",
            "I Training epoch 3...\n",
            "I Training of Epoch 3 - loss: 290.845744\n",
            "100% (21 of 21) |#########################| Elapsed Time: 0:00:02 Time:  0:00:02\n",
            "I Validating epoch 3...\n",
            "I Validation of Epoch 3 - loss: 284.794739\n",
            "100% (3 of 3) |###########################| Elapsed Time: 0:00:00 Time:  0:00:00\n",
            "I Training epoch 4...\n",
            "I Training of Epoch 4 - loss: 290.080965\n",
            "100% (21 of 21) |#########################| Elapsed Time: 0:00:03 Time:  0:00:03\n",
            "I Validating epoch 4...\n",
            "I Validation of Epoch 4 - loss: 284.386363\n",
            "100% (3 of 3) |###########################| Elapsed Time: 0:00:00 Time:  0:00:00\n",
            "I Training epoch 5...\n",
            "I Training of Epoch 5 - loss: 288.610949\n",
            "100% (21 of 21) |#########################| Elapsed Time: 0:00:02 Time:  0:00:02\n",
            "I Validating epoch 5...\n",
            "I Validation of Epoch 5 - loss: 286.136673\n",
            "100% (3 of 3) |###########################| Elapsed Time: 0:00:00 Time:  0:00:00\n",
            "I Training epoch 6...\n",
            "I Training of Epoch 6 - loss: 287.128866\n",
            "100% (21 of 21) |#########################| Elapsed Time: 0:00:02 Time:  0:00:02\n",
            "I Validating epoch 6...\n",
            "I Validation of Epoch 6 - loss: 285.311661\n",
            "100% (3 of 3) |###########################| Elapsed Time: 0:00:00 Time:  0:00:00\n",
            "I Training epoch 7...\n",
            "I Training of Epoch 7 - loss: 285.593090\n",
            "100% (21 of 21) |#########################| Elapsed Time: 0:00:02 Time:  0:00:02\n",
            "I Validating epoch 7...\n",
            "I Validation of Epoch 7 - loss: 287.698252\n",
            "I Early stop triggered as (for last 4 steps) validation loss: 287.698252 with standard deviation: 0.714952 and mean: 285.278232\n",
            "I FINISHED Optimization - training time: 0:00:25\n",
            "100% (3 of 3) |###########################| Elapsed Time: 0:00:00 Time:  0:00:00\n",
            "Preprocessing ['/DeepSpeech/data/tiny-dataset/tiny-test.csv']\n",
            "Preprocessing done\n",
            "[scorer.cpp:76] FATAL: \"(access(filename, 4)) == (0)\" check failed. Invalid language model path\n"
          ],
          "name": "stdout"
        }
      ]
    },
    {
      "metadata": {
        "id": "2MMrL9Ji9n11",
        "colab_type": "code",
        "outputId": "bd97bf3d-99b3-47a9-f11f-08f6f8432608",
        "colab": {
          "base_uri": "https://localhost:8080/",
          "height": 326
        }
      },
      "cell_type": "code",
      "source": [
        "# !python /DeepSpeech/DeepSpeech.py --train_files /DeepSpeech/data/tiny-dataset/tiny-train.csv --dev_files /DeepSpeech/data/tiny-dataset/tiny-dev.csv --test_files /DeepSpeech/data/tiny-dataset/tiny-test.csv"
      ],
      "execution_count": 6,
      "outputs": [
        {
          "output_type": "stream",
          "text": [
            "WARNING:tensorflow:From /usr/local/lib/python3.6/dist-packages/tensorflow/python/framework/op_def_library.py:263: colocate_with (from tensorflow.python.framework.ops) is deprecated and will be removed in a future version.\n",
            "Instructions for updating:\n",
            "Colocations handled automatically by placer.\n",
            "Preprocessing ['/DeepSpeech/data/tiny-dataset/tiny-train.csv']\n",
            "Preprocessing done\n",
            "Preprocessing ['/DeepSpeech/data/tiny-dataset/tiny-dev.csv']\n",
            "Preprocessing done\n",
            "WARNING:tensorflow:From /usr/local/lib/python3.6/dist-packages/tensorflow/contrib/rnn/python/ops/lstm_ops.py:696: to_int64 (from tensorflow.python.ops.math_ops) is deprecated and will be removed in a future version.\n",
            "Instructions for updating:\n",
            "Use tf.cast instead.\n",
            "W Parameter --validation_step needs to be >0 for early stopping to work\n",
            "I STARTING Optimization\n",
            "I Training epoch 0...\n",
            "I Training of Epoch 0 - loss: 456.450256\n",
            "100% (21 of 21) |#########################| Elapsed Time: 0:00:23 Time:  0:00:23\n",
            "I Training epoch 1...\n",
            "100% (21 of 21) |#########################| Elapsed Time: 0:00:25 ETA:  00:00:00^C\n"
          ],
          "name": "stdout"
        }
      ]
    },
    {
      "metadata": {
        "id": "S23CYk8oE0j8",
        "colab_type": "code",
        "colab": {}
      },
      "cell_type": "code",
      "source": [
        ""
      ],
      "execution_count": 0,
      "outputs": []
    },
    {
      "metadata": {
        "id": "mVEq0luqE0uF",
        "colab_type": "code",
        "colab": {}
      },
      "cell_type": "code",
      "source": [
        ""
      ],
      "execution_count": 0,
      "outputs": []
    },
    {
      "metadata": {
        "id": "TZrXUQiOE05U",
        "colab_type": "code",
        "colab": {}
      },
      "cell_type": "code",
      "source": [
        ""
      ],
      "execution_count": 0,
      "outputs": []
    },
    {
      "metadata": {
        "id": "22Prjl1TE027",
        "colab_type": "code",
        "colab": {}
      },
      "cell_type": "code",
      "source": [
        ""
      ],
      "execution_count": 0,
      "outputs": []
    },
    {
      "metadata": {
        "id": "wngpKYdEE00M",
        "colab_type": "code",
        "colab": {}
      },
      "cell_type": "code",
      "source": [
        ""
      ],
      "execution_count": 0,
      "outputs": []
    },
    {
      "metadata": {
        "id": "1lLDUAyKE0xp",
        "colab_type": "code",
        "colab": {}
      },
      "cell_type": "code",
      "source": [
        ""
      ],
      "execution_count": 0,
      "outputs": []
    },
    {
      "metadata": {
        "id": "dwAU9rQs_B48",
        "colab_type": "code",
        "colab": {
          "base_uri": "https://localhost:8080/",
          "height": 139
        },
        "outputId": "2ffab4d5-ef40-4d06-f7ae-78b2c123f086"
      },
      "cell_type": "code",
      "source": [
        "!pip3 install https://index.taskcluster.net/v1/task/project.deepspeech.deepspeech.native_client.v0.5.0-alpha.4.cpu-ctc/artifacts/public/ds_ctcdecoder-0.5.0a4-cp36-cp36m-manylinux1_x86_64.whl"
      ],
      "execution_count": 6,
      "outputs": [
        {
          "output_type": "stream",
          "text": [
            "Collecting ds-ctcdecoder==0.5.0a4 from https://index.taskcluster.net/v1/task/project.deepspeech.deepspeech.native_client.v0.5.0-alpha.4.cpu-ctc/artifacts/public/ds_ctcdecoder-0.5.0a4-cp36-cp36m-manylinux1_x86_64.whl\n",
            "\u001b[?25l  Downloading https://index.taskcluster.net/v1/task/project.deepspeech.deepspeech.native_client.v0.5.0-alpha.4.cpu-ctc/artifacts/public/ds_ctcdecoder-0.5.0a4-cp36-cp36m-manylinux1_x86_64.whl (1.6MB)\n",
            "\u001b[K    100% |████████████████████████████████| 1.6MB 16.4MB/s \n",
            "\u001b[?25hRequirement already satisfied: numpy>=1.7.0 in /usr/local/lib/python3.6/dist-packages (from ds-ctcdecoder==0.5.0a4) (1.14.6)\n",
            "Installing collected packages: ds-ctcdecoder\n",
            "Successfully installed ds-ctcdecoder-0.5.0a4\n"
          ],
          "name": "stdout"
        }
      ]
    },
    {
      "metadata": {
        "id": "KfQk_y5f-xPT",
        "colab_type": "code",
        "colab": {}
      },
      "cell_type": "code",
      "source": [
        "!mv data/data2/alphabet.txt data/alphabet.txt"
      ],
      "execution_count": 0,
      "outputs": []
    },
    {
      "metadata": {
        "id": "N-3DrQIO_0Al",
        "colab_type": "code",
        "colab": {}
      },
      "cell_type": "code",
      "source": [
        "!mv /content/DeepSpeech /DeepSpeech"
      ],
      "execution_count": 0,
      "outputs": []
    },
    {
      "metadata": {
        "id": "8Ni5u_ms_Tpx",
        "colab_type": "code",
        "colab": {}
      },
      "cell_type": "code",
      "source": [
        "!rm -rf data/data2"
      ],
      "execution_count": 0,
      "outputs": []
    },
    {
      "metadata": {
        "id": "y-Rvn8KL-V3r",
        "colab_type": "code",
        "outputId": "1ac361d4-2646-4103-b464-94d8cd1ad7ea",
        "colab": {
          "base_uri": "https://localhost:8080/",
          "height": 34
        }
      },
      "cell_type": "code",
      "source": [
        "!ls data2/data2"
      ],
      "execution_count": 0,
      "outputs": [
        {
          "output_type": "stream",
          "text": [
            "alphabet.txt  tiny-dataset\n"
          ],
          "name": "stdout"
        }
      ]
    },
    {
      "metadata": {
        "id": "7AhdoXNM6Bh8",
        "colab_type": "code",
        "colab": {}
      },
      "cell_type": "code",
      "source": [
        ""
      ],
      "execution_count": 0,
      "outputs": []
    },
    {
      "metadata": {
        "id": "5F3yuHj9uVZo",
        "colab_type": "code",
        "outputId": "6cb13772-4bcf-4c5c-a5dd-89cd7a9b47fd",
        "colab": {
          "base_uri": "https://localhost:8080/",
          "height": 799
        }
      },
      "cell_type": "code",
      "source": [
        "!ls -Alh"
      ],
      "execution_count": 0,
      "outputs": [
        {
          "output_type": "stream",
          "text": [
            "total 308K\n",
            "-rw-r--r-- 1 root root  11K Mar 28 10:49 bazel.patch\n",
            "drwxr-xr-x 2 root root 4.0K Mar 28 10:49 bin\n",
            "-rwxr-xr-x 1 root root  982 Mar 28 10:49 .compute\n",
            "drwxr-xr-x 5 root root 4.0K Mar 28 10:49 data\n",
            "drwxr-xr-x 3 root root 4.0K Mar 28 11:01 data2\n",
            "-rwxr-xr-x 1 root root  40K Mar 28 10:49 DeepSpeech.py\n",
            "drwxr-xr-x 2 root root 4.0K Mar 28 10:49 doc\n",
            "-rw-r--r-- 1 root root 6.2K Mar 28 10:49 Dockerfile\n",
            "-rwxr-xr-x 1 root root 7.7K Mar 28 10:49 evaluate.py\n",
            "-rw-r--r-- 1 root root 3.9K Mar 28 10:49 evaluate_tflite.py\n",
            "drwxr-xr-x 7 root root 4.0K Mar 28 10:49 examples\n",
            "drwxr-xr-x 8 root root 4.0K Mar 28 10:49 .git\n",
            "-rw-r--r-- 1 root root  148 Mar 28 10:49 .gitattributes\n",
            "drwxr-xr-x 2 root root 4.0K Mar 28 10:49 .github\n",
            "-rw-r--r-- 1 root root  420 Mar 28 10:49 .gitignore\n",
            "drwxr-xr-x 2 root root 4.0K Mar 28 10:49 images\n",
            "-rw-r--r-- 1 root root 1.2K Mar 28 10:49 ISSUE_TEMPLATE.md\n",
            "-rw-r--r-- 1 root root  17K Mar 28 10:49 LICENSE\n",
            "drwxr-xr-x 9 root root 4.0K Mar 28 10:49 native_client\n",
            "drwxr-xr-x 2 root root 4.0K Mar 28 10:49 __pycache__\n",
            "-rw-r--r-- 1 root root  24K Mar 28 10:49 README.md\n",
            "-rw-r--r-- 1 root root  442 Mar 28 10:49 RELEASE.md\n",
            "-rw-r--r-- 1 root root  115 Mar 28 10:49 requirements_eval_tflite.txt\n",
            "-rw-r--r-- 1 root root  198 Mar 28 10:49 requirements.txt\n",
            "drwxr-xr-x 2 root root  12K Mar 28 10:49 taskcluster\n",
            "-rw-r--r-- 1 root root 2.8K Mar 28 10:49 .taskcluster.yml\n",
            "-rw-r--r-- 1 root root  550 Mar 28 10:49 tc-android-apk-tests.sh\n",
            "-rwxr-xr-x 1 root root  633 Mar 28 10:49 tc-android-ds-tests.sh\n",
            "-rwxr-xr-x 1 root root 3.4K Mar 28 10:49 tc-benchmark-tests.sh\n",
            "-rw-r--r-- 1 root root 2.1K Mar 28 10:49 tc-brew-tests.sh\n",
            "-rw-r--r-- 1 root root  388 Mar 28 10:49 tc-cpp-ds-tests-prod.sh\n",
            "-rw-r--r-- 1 root root  234 Mar 28 10:49 tc-cpp-ds-tests.sh\n",
            "-rw-r--r-- 1 root root  209 Mar 28 10:49 tc-cppwin-ds-tests.sh\n",
            "-rwxr-xr-x 1 root root  544 Mar 28 10:49 tc-lite_benchmark_model-ds-tests.sh\n",
            "-rw-r--r-- 1 root root  261 Mar 28 10:49 tc-netframework-ds-tests.sh\n",
            "-rw-r--r-- 1 root root  521 Mar 28 10:49 tc-node-tests-prod.sh\n",
            "-rw-r--r-- 1 root root  455 Mar 28 10:49 tc-node-tests.sh\n",
            "-rw-r--r-- 1 root root 2.0K Mar 28 10:49 tc-python-tests-prod.sh\n",
            "-rw-r--r-- 1 root root 1.9K Mar 28 10:49 tc-python-tests.sh\n",
            "-rwxr-xr-x 1 root root 1.2K Mar 28 10:49 tc-schedule.sh\n",
            "-rwxr-xr-x 1 root root 2.0K Mar 28 10:49 tc-single-shot-inference.sh\n",
            "-rwxr-xr-x 1 root root  36K Mar 28 10:49 tc-tests-utils.sh\n",
            "-rw-r--r-- 1 root root 2.7K Mar 28 10:49 tc-train-tests.sh\n",
            "drwxr-xr-x 3 root root 4.0K Mar 28 10:52 util\n",
            "-rw-r--r-- 1 root root   14 Mar 28 10:49 VERSION\n"
          ],
          "name": "stdout"
        }
      ]
    },
    {
      "metadata": {
        "id": "8HIBar5C8o2i",
        "colab_type": "code",
        "outputId": "b7af0f86-8324-4770-e9bd-f168b84e1ce6",
        "colab": {
          "base_uri": "https://localhost:8080/",
          "height": 340
        }
      },
      "cell_type": "code",
      "source": [
        "!unzip /data2.zip -d data2"
      ],
      "execution_count": 0,
      "outputs": [
        {
          "output_type": "stream",
          "text": [
            "Archive:  /data2.zip\n",
            "   creating: data2/data2/\n",
            "   creating: data2/data2/tiny-dataset/\n",
            "   creating: data2/data2/tiny-dataset/tiny-test/\n",
            "  inflating: data2/data2/tiny-dataset/tiny-test/ru_0052.wav  \n",
            "  inflating: data2/data2/tiny-dataset/tiny-test/ru_0053.wav  \n",
            "  inflating: data2/data2/tiny-dataset/tiny-test/ru_0054.wav  \n",
            "   creating: data2/data2/tiny-dataset/tiny-dev/\n",
            "  inflating: data2/data2/tiny-dataset/tiny-dev/ru_0030.wav  \n",
            "  inflating: data2/data2/tiny-dataset/tiny-dev/ru_0031.wav  \n",
            "  inflating: data2/data2/tiny-dataset/tiny-dev/ru_0032.wav  \n",
            "  inflating: data2/data2/tiny-dataset/tiny-dev.csv  \n",
            "   creating: data2/data2/tiny-dataset/tiny-train/\n",
            "  inflating: data2/data2/tiny-dataset/tiny-train/ru_0002.wav  \n",
            "  inflating: data2/data2/tiny-dataset/tiny-train/ru_0004.wav  \n",
            "  inflating: data2/data2/tiny-dataset/tiny-train/ru_0003.wav  \n",
            "  inflating: data2/data2/tiny-dataset/tiny-test.csv  \n",
            "  inflating: data2/data2/tiny-dataset/tiny-train.csv  \n",
            "  inflating: data2/data2/alphabet.txt  \n"
          ],
          "name": "stdout"
        }
      ]
    },
    {
      "metadata": {
        "id": "l_D1vtnQ81Wt",
        "colab_type": "code",
        "outputId": "f9cd8433-ee3f-43a6-804a-6473d875274d",
        "colab": {
          "base_uri": "https://localhost:8080/",
          "height": 34
        }
      },
      "cell_type": "code",
      "source": [
        "!pwd"
      ],
      "execution_count": 0,
      "outputs": [
        {
          "output_type": "stream",
          "text": [
            "/content/DeepSpeech\n"
          ],
          "name": "stdout"
        }
      ]
    },
    {
      "metadata": {
        "id": "ctEtjDEHeW-l",
        "colab_type": "code",
        "colab": {}
      },
      "cell_type": "code",
      "source": [
        "# Code to read csv file into Colaboratory:\n",
        "!pip install -U -q PyDrive\n",
        "from pydrive.auth import GoogleAuth\n",
        "from pydrive.drive import GoogleDrive\n",
        "from google.colab import auth\n",
        "from oauth2client.client import GoogleCredentials\n",
        "# Authenticate and create the PyDrive client.\n",
        "auth.authenticate_user()\n",
        "gauth = GoogleAuth()\n",
        "gauth.credentials = GoogleCredentials.get_application_default()\n",
        "drive = GoogleDrive(gauth)"
      ],
      "execution_count": 0,
      "outputs": []
    },
    {
      "metadata": {
        "id": "kFwUSOlZenEP",
        "colab_type": "code",
        "colab": {}
      },
      "cell_type": "code",
      "source": [
        "def download_gdrive_file(file_id):\n",
        "    '''\n",
        "    example file_id:\n",
        "    1FdiUVpef4cVKnB8noG4BUjVTSwaS9HfA\n",
        "    '''\n",
        "    gfile = drive.CreateFile({'id': file_id})\n",
        "    gfile.FetchMetadata()\n",
        "    gfile_name = gfile['title']\n",
        "    gfile.GetContentFile(gfile_name)"
      ],
      "execution_count": 0,
      "outputs": []
    },
    {
      "metadata": {
        "id": "zKRQj0FSueN1",
        "colab_type": "code",
        "colab": {
          "base_uri": "https://localhost:8080/",
          "height": 105
        },
        "outputId": "a008bb41-3129-44c5-9782-fd1022d97969"
      },
      "cell_type": "code",
      "source": [
        "# this link changes every day\n",
        "!curl curl 'https://doc-04-54-docs.googleusercontent.com/docs/securesc/ha0ro937gcuc7l7deffksulhg5h7mbp1/bq185d2p7uvhmgo3t7gjde446eth367r/1553846400000/08032243308062674117/*/12WUh8REDuhOAQIISF7hBldM0mhxtDpE0?e=download' -H 'authority: doc-04-54-docs.googleusercontent.com' -H 'upgrade-insecure-requests: 1' -H 'user-agent: Mozilla/5.0 (Macintosh; Intel Mac OS X 10_14_2) AppleWebKit/537.36 (KHTML, like Gecko) Chrome/73.0.3683.86 Safari/537.36' -H 'accept: text/html,application/xhtml+xml,application/xml;q=0.9,image/webp,image/apng,*/*;q=0.8,application/signed-exchange;v=b3' -H 'referer: https://drive.google.com/uc?id=12WUh8REDuhOAQIISF7hBldM0mhxtDpE0&export=download' -H 'accept-encoding: gzip, deflate, br' -H 'accept-language: ru-RU,ru;q=0.9,en-US;q=0.8,en;q=0.7' --compressed > 'yt-vad-650-clean.tar.gz'"
      ],
      "execution_count": 40,
      "outputs": [
        {
          "output_type": "stream",
          "text": [
            "  % Total    % Received % Xferd  Average Speed   Time    Time     Time  Current\n",
            "                                 Dload  Upload   Total   Spent    Left  Speed\n",
            "  0     0    0     0    0     0      0      0 --:--:-- --:--:-- --:--:--     0curl: (6) Could not resolve host: curl\n",
            "100 56.4G    0 56.4G    0     0   133M      0 --:--:--  0:07:12 --:--:--  119M\n"
          ],
          "name": "stdout"
        }
      ]
    },
    {
      "metadata": {
        "id": "PKoOWLnsl461",
        "colab_type": "code",
        "colab": {}
      },
      "cell_type": "code",
      "source": [
        "# !ls -Alh"
      ],
      "execution_count": 0,
      "outputs": []
    },
    {
      "metadata": {
        "id": "uB7k1SnBuwwe",
        "colab_type": "code",
        "colab": {}
      },
      "cell_type": "code",
      "source": [
        "./bin/run-ldc93s1.sh"
      ],
      "execution_count": 0,
      "outputs": []
    },
    {
      "metadata": {
        "id": "WbLoweTDry0I",
        "colab_type": "code",
        "colab": {}
      },
      "cell_type": "code",
      "source": [
        "download_gdrive_file('1Vx6NP0i3GhVpKFKVvTlEVo-mhvhLZ3q0') # random samples from yt-subs-rus-6k (274MB)"
      ],
      "execution_count": 0,
      "outputs": []
    },
    {
      "metadata": {
        "id": "1NdIx-FrpzT9",
        "colab_type": "code",
        "colab": {}
      },
      "cell_type": "code",
      "source": [
        "download_gdrive_file('1FdiUVpef4cVKnB8noG4BUjVTSwaS9HfA') # LM-mixed-yt-echo-wiki-o5-prune2-24Jun18 (1GB)"
      ],
      "execution_count": 0,
      "outputs": []
    },
    {
      "metadata": {
        "id": "1X5GyeVmsvIY",
        "colab_type": "code",
        "colab": {
          "base_uri": "https://localhost:8080/",
          "height": 163
        },
        "outputId": "40004113-be54-4983-cfad-8d83c7d2d79c"
      },
      "cell_type": "code",
      "source": [
        "# !tar xvfz samples-from-6k-dataset-28Jun18.tar.gz\n",
        "!tar xvfz LM-mixed-yt-echo-wiki-o5-prune2-24Jun18.tar.gz\n",
        "!tar xfvz yt-vad-650-clean.tar.gz"
      ],
      "execution_count": 0,
      "outputs": [
        {
          "output_type": "stream",
          "text": [
            "mixed-yt-echo-wiki-o5-prune2-24Jun18/\n",
            "mixed-yt-echo-wiki-o5-prune2-24Jun18/vocabulary.txt\n",
            "mixed-yt-echo-wiki-o5-prune2-24Jun18/lm.binary\n",
            "mixed-yt-echo-wiki-o5-prune2-24Jun18/trie\n",
            "mixed-yt-echo-wiki-o5-prune2-24Jun18/words.arpa\n",
            "mixed-yt-echo-wiki-o5-prune2-24Jun18/alphabet.txt\n",
            "tar: Removing leading `/' from member names\n"
          ],
          "name": "stdout"
        }
      ]
    },
    {
      "metadata": {
        "id": "iL-Z6--Isqld",
        "colab_type": "code",
        "colab": {
          "base_uri": "https://localhost:8080/",
          "height": 136
        },
        "outputId": "d2426596-140e-4f79-e1bc-df03cb88c032"
      },
      "cell_type": "code",
      "source": [
        "!ls"
      ],
      "execution_count": 40,
      "outputs": [
        {
          "output_type": "stream",
          "text": [
            "adc.json\n",
            "Filename.csv\n",
            "LM-mixed-yt-echo-wiki-o5-prune2-24Jun18.tar.gz\n",
            "mixed-yt-echo-wiki-o5-prune2-24Jun18\n",
            "sample_data\n",
            "samples-from-6k-dataset-28Jun18\n",
            "samples-from-6k-dataset-28Jun18.tar.gz\n"
          ],
          "name": "stdout"
        }
      ]
    },
    {
      "metadata": {
        "id": "A-de8H3cc6oj",
        "colab_type": "code",
        "colab": {}
      },
      "cell_type": "code",
      "source": [
        "gfile = drive.CreateFile({'id': '1Vx6NP0i3GhVpKFKVvTlEVo-mhvhLZ3q0'})\n",
        "gfile.FetchMetadata()\n",
        "#.GetContentFile('Filename.csv')"
      ],
      "execution_count": 0,
      "outputs": []
    },
    {
      "metadata": {
        "id": "kAOxQOmN3KSZ",
        "colab_type": "code",
        "colab": {}
      },
      "cell_type": "code",
      "source": [
        ""
      ],
      "execution_count": 0,
      "outputs": []
    },
    {
      "metadata": {
        "id": "8DAfeyAW05DI",
        "colab_type": "code",
        "colab": {
          "base_uri": "https://localhost:8080/",
          "height": 187
        },
        "outputId": "218ad9ff-fe72-437d-e762-c62b65554f25"
      },
      "cell_type": "code",
      "source": [
        "!ls -Alh"
      ],
      "execution_count": 53,
      "outputs": [
        {
          "output_type": "stream",
          "text": [
            "total 59G\n",
            "-rw-r--r--  1 root root 2.5K Mar 28 13:25 adc.json\n",
            "drwxr-xr-x  1 root root 4.0K Mar 28 13:25 .config\n",
            "-rw-r--r--  1 root root 274M Mar 28 13:27 Filename.csv\n",
            "-rw-r--r--  1 root root 1.1G Mar 28 14:15 LM-mixed-yt-echo-wiki-o5-prune2-24Jun18.tar.gz\n",
            "drwxr-xr-x  2 root root 4.0K Jun 24  2018 mixed-yt-echo-wiki-o5-prune2-24Jun18\n",
            "drwxr-xr-x  1 root root 4.0K Mar  8 17:26 sample_data\n",
            "drwxr-xr-x 42 root root 4.0K Jun 28  2018 samples-from-6k-dataset-28Jun18\n",
            "-rw-r--r--  1 root root 274M Mar 28 14:26 samples-from-6k-dataset-28Jun18.tar.gz\n",
            "-rw-r--r--  1 root root  57G Mar 28 14:44 yt-vad-650-clean.tar.gz\n"
          ],
          "name": "stdout"
        }
      ]
    },
    {
      "metadata": {
        "id": "v00UzLWX6ith",
        "colab_type": "code",
        "colab": {}
      },
      "cell_type": "code",
      "source": [
        "!rm -rf /DeepSpeech"
      ],
      "execution_count": 0,
      "outputs": []
    },
    {
      "metadata": {
        "id": "G3OtfQFQ82oz",
        "colab_type": "code",
        "colab": {}
      },
      "cell_type": "code",
      "source": [
        "import os\n",
        "os.chdir('/DeepSpeech')"
      ],
      "execution_count": 0,
      "outputs": []
    },
    {
      "metadata": {
        "id": "XEfQTS2n9BnV",
        "colab_type": "code",
        "colab": {
          "base_uri": "https://localhost:8080/",
          "height": 921
        },
        "outputId": "4725bdd7-80b9-47d7-9f28-613755175319"
      },
      "cell_type": "code",
      "source": [
        "!pip install -r requirements.txt"
      ],
      "execution_count": 64,
      "outputs": [
        {
          "output_type": "stream",
          "text": [
            "Collecting 3to2==1.1.1 (from -r requirements.txt (line 1))\n",
            "\u001b[?25l  Downloading https://files.pythonhosted.org/packages/8f/ab/58a363eca982c40e9ee5a7ca439e8ffc5243dde2ae660ba1ffdd4868026b/3to2-1.1.1.zip (78kB)\n",
            "\u001b[K    100% |████████████████████████████████| 81kB 3.2MB/s \n",
            "\u001b[?25hCollecting absl-py==0.2.0 (from -r requirements.txt (line 2))\n",
            "\u001b[?25l  Downloading https://files.pythonhosted.org/packages/90/6b/ba04a9fe6aefa56adafa6b9e0557b959e423c49950527139cb8651b0480b/absl-py-0.2.0.tar.gz (82kB)\n",
            "\u001b[K    100% |████████████████████████████████| 92kB 7.0MB/s \n",
            "\u001b[?25hCollecting altgraph==0.15 (from -r requirements.txt (line 3))\n",
            "  Downloading https://files.pythonhosted.org/packages/fe/fd/f63226be4aeebcac65d5f7e882bd00c8465ce883c1a4d16b18bd4ae9086e/altgraph-0.15-py2.py3-none-any.whl\n",
            "Collecting asn1crypto==0.24.0 (from -r requirements.txt (line 4))\n",
            "\u001b[?25l  Downloading https://files.pythonhosted.org/packages/ea/cd/35485615f45f30a510576f1a56d1e0a7ad7bd8ab5ed7cdc600ef7cd06222/asn1crypto-0.24.0-py2.py3-none-any.whl (101kB)\n",
            "\u001b[K    100% |████████████████████████████████| 102kB 28.2MB/s \n",
            "\u001b[?25hCollecting astor==0.6.2 (from -r requirements.txt (line 5))\n",
            "  Downloading https://files.pythonhosted.org/packages/b2/91/cc9805f1ff7b49f620136b3a7ca26f6a1be2ed424606804b0fbcf499f712/astor-0.6.2-py2.py3-none-any.whl\n",
            "Collecting backports.functools-lru-cache==1.5 (from -r requirements.txt (line 6))\n",
            "  Downloading https://files.pythonhosted.org/packages/03/8e/2424c0e65c4a066e28f539364deee49b6451f8fcd4f718fefa50cc3dcf48/backports.functools_lru_cache-1.5-py2.py3-none-any.whl\n",
            "Requirement already satisfied: backports.weakref==1.0.post1 in /usr/local/lib/python3.6/dist-packages (from -r requirements.txt (line 7)) (1.0.post1)\n",
            "Collecting bcrypt==3.1.4 (from -r requirements.txt (line 8))\n",
            "\u001b[?25l  Downloading https://files.pythonhosted.org/packages/b8/09/905ec939994e2c49dcffff72f823802557f166b3815ea54c1db3671eed42/bcrypt-3.1.4-cp36-cp36m-manylinux1_x86_64.whl (54kB)\n",
            "\u001b[K    100% |████████████████████████████████| 61kB 24.7MB/s \n",
            "\u001b[?25hCollecting beautifulsoup4==4.6.0 (from -r requirements.txt (line 9))\n",
            "\u001b[?25l  Downloading https://files.pythonhosted.org/packages/9e/d4/10f46e5cfac773e22707237bfcd51bbffeaf0a576b0a847ec7ab15bd7ace/beautifulsoup4-4.6.0-py3-none-any.whl (86kB)\n",
            "\u001b[K    100% |████████████████████████████████| 92kB 16.1MB/s \n",
            "\u001b[?25hCollecting bleach==1.5.0 (from -r requirements.txt (line 10))\n",
            "  Downloading https://files.pythonhosted.org/packages/33/70/86c5fec937ea4964184d4d6c4f0b9551564f821e1c3575907639036d9b90/bleach-1.5.0-py2.py3-none-any.whl\n",
            "Requirement already satisfied: bs4==0.0.1 in /usr/local/lib/python3.6/dist-packages (from -r requirements.txt (line 11)) (0.0.1)\n",
            "Collecting certifi==2018.1.18 (from -r requirements.txt (line 12))\n",
            "\u001b[?25l  Downloading https://files.pythonhosted.org/packages/fa/53/0a5562e2b96749e99a3d55d8c7df91c9e4d8c39a9da1f1a49ac9e4f4b39f/certifi-2018.1.18-py2.py3-none-any.whl (151kB)\n",
            "\u001b[K    100% |████████████████████████████████| 153kB 8.3MB/s \n",
            "\u001b[?25hCollecting cffi==1.11.5 (from -r requirements.txt (line 13))\n",
            "\u001b[?25l  Downloading https://files.pythonhosted.org/packages/6d/c0/47db8f624f3e4e2f3f27be03a93379d1ba16a1450a7b1aacfa0366e2c0dd/cffi-1.11.5-cp36-cp36m-manylinux1_x86_64.whl (421kB)\n",
            "\u001b[K    100% |████████████████████████████████| 430kB 11.4MB/s \n",
            "\u001b[?25hRequirement already satisfied: chardet==3.0.4 in /usr/local/lib/python3.6/dist-packages (from -r requirements.txt (line 14)) (3.0.4)\n",
            "Collecting click==6.7 (from -r requirements.txt (line 15))\n",
            "\u001b[?25l  Downloading https://files.pythonhosted.org/packages/34/c1/8806f99713ddb993c5366c362b2f908f18269f8d792aff1abfd700775a77/click-6.7-py2.py3-none-any.whl (71kB)\n",
            "\u001b[K    100% |████████████████████████████████| 71kB 27.7MB/s \n",
            "\u001b[?25hCollecting cryptography==2.2.2 (from -r requirements.txt (line 16))\n",
            "\u001b[?25l  Downloading https://files.pythonhosted.org/packages/fa/f4/3cde3604972dfa2b0fea85b9711948bb4fb70ab64095322aef35071bd254/cryptography-2.2.2-cp34-abi3-manylinux1_x86_64.whl (2.2MB)\n",
            "\u001b[K    100% |████████████████████████████████| 2.2MB 15.6MB/s \n",
            "\u001b[?25hRequirement already satisfied: cycler==0.10.0 in /usr/local/lib/python3.6/dist-packages (from -r requirements.txt (line 17)) (0.10.0)\n",
            "Collecting deepspeech==0.1.1 (from -r requirements.txt (line 18))\n",
            "\u001b[?25l  Downloading https://files.pythonhosted.org/packages/27/52/b53c34706e22a553817d2f8941c77aa1b5c33715dfca983d0783378ee56e/deepspeech-0.1.1-cp36-cp36m-manylinux1_x86_64.whl (16.2MB)\n",
            "\u001b[K    100% |████████████████████████████████| 16.2MB 3.0MB/s \n",
            "\u001b[?25hCollecting dis3==0.1.2 (from -r requirements.txt (line 19))\n",
            "  Downloading https://files.pythonhosted.org/packages/5f/ed/dc9197e0e66286bb7bb4b60aac88c85715eadcf41ac432c187b111ff38ca/dis3-0.1.2-py3-none-any.whl\n",
            "Requirement already satisfied: enum34==1.1.6 in /usr/local/lib/python3.6/dist-packages (from -r requirements.txt (line 20)) (1.1.6)\n",
            "Requirement already satisfied: Flask==1.0.2 in /usr/local/lib/python3.6/dist-packages (from -r requirements.txt (line 21)) (1.0.2)\n",
            "Collecting funcsigs==1.0.2 (from -r requirements.txt (line 22))\n",
            "  Downloading https://files.pythonhosted.org/packages/69/cb/f5be453359271714c01b9bd06126eaf2e368f1fddfff30818754b5ac2328/funcsigs-1.0.2-py2.py3-none-any.whl\n",
            "Requirement already satisfied: future==0.16.0 in /usr/local/lib/python3.6/dist-packages (from -r requirements.txt (line 23)) (0.16.0)\n",
            "Collecting futures==3.2.0 (from -r requirements.txt (line 24))\n",
            "\u001b[31m  Could not find a version that satisfies the requirement futures==3.2.0 (from -r requirements.txt (line 24)) (from versions: 0.2.python3, 0.1, 0.2, 1.0, 2.0, 2.1, 2.1.1, 2.1.2, 2.1.3, 2.1.4, 2.1.5, 2.1.6, 2.2.0, 3.0.0, 3.0.1, 3.0.2, 3.0.3, 3.0.4, 3.0.5, 3.1.0, 3.1.1)\u001b[0m\n",
            "\u001b[31mNo matching distribution found for futures==3.2.0 (from -r requirements.txt (line 24))\u001b[0m\n"
          ],
          "name": "stdout"
        }
      ]
    },
    {
      "metadata": {
        "id": "ZUTyTWJC6MYZ",
        "colab_type": "code",
        "colab": {
          "base_uri": "https://localhost:8080/",
          "height": 139
        },
        "outputId": "1fe52e6c-f5de-49f0-94ca-ac8cf7bde796"
      },
      "cell_type": "code",
      "source": [
        "!bash bin/train-tiny-dataset.sh"
      ],
      "execution_count": 4,
      "outputs": [
        {
          "output_type": "stream",
          "text": [
            "+ '[' '!' -f DeepSpeech.py ']'\n",
            "+ python -u DeepSpeech.py --train_files /DeepSpeech/data/tiny-dataset/tiny-train.csv --dev_files /DeepSpeech/data/tiny-dataset/tiny-dev.csv --test_files /DeepSpeech/data/tiny-dataset/tiny-test.csv --train_batch_size 1 --dev_batch_size 1 --test_batch_size 1 --learning_rate 0.0001 --epoch 35 --display_step 0 --validation_step 1 --dropout_rate 0.3 --default_stddev 0.046875 --n_hidden 512 --checkpoint_dir /network/tiny-dataset-512/tiny-dataset-512-checkpoints/ --export_dir /network/tiny-dataset-512/tiny-dataset-512-export/ --log_level 1 --report_count 3 --xla=False --use_warpctc=True --log_telegram=True\n",
            "Traceback (most recent call last):\n",
            "  File \"DeepSpeech.py\", line 12, in <module>\n",
            "    reload(sys)\n",
            "NameError: name 'reload' is not defined\n"
          ],
          "name": "stdout"
        }
      ]
    },
    {
      "metadata": {
        "id": "qSzAAn7A1S6j",
        "colab_type": "code",
        "colab": {
          "base_uri": "https://localhost:8080/",
          "height": 306
        },
        "outputId": "d49c0ec8-0f43-4039-d9b3-0e00a6a48e68"
      },
      "cell_type": "code",
      "source": [
        "!nvidia-smi"
      ],
      "execution_count": 54,
      "outputs": [
        {
          "output_type": "stream",
          "text": [
            "Thu Mar 28 15:05:04 2019       \n",
            "+-----------------------------------------------------------------------------+\n",
            "| NVIDIA-SMI 418.43       Driver Version: 410.79       CUDA Version: 10.0     |\n",
            "|-------------------------------+----------------------+----------------------+\n",
            "| GPU  Name        Persistence-M| Bus-Id        Disp.A | Volatile Uncorr. ECC |\n",
            "| Fan  Temp  Perf  Pwr:Usage/Cap|         Memory-Usage | GPU-Util  Compute M. |\n",
            "|===============================+======================+======================|\n",
            "|   0  Tesla K80           Off  | 00000000:00:04.0 Off |                    0 |\n",
            "| N/A   31C    P8    28W / 149W |      0MiB / 11441MiB |      0%      Default |\n",
            "+-------------------------------+----------------------+----------------------+\n",
            "                                                                               \n",
            "+-----------------------------------------------------------------------------+\n",
            "| Processes:                                                       GPU Memory |\n",
            "|  GPU       PID   Type   Process name                             Usage      |\n",
            "|=============================================================================|\n",
            "|  No running processes found                                                 |\n",
            "+-----------------------------------------------------------------------------+\n"
          ],
          "name": "stdout"
        }
      ]
    },
    {
      "metadata": {
        "id": "L-4wJ1Ap-kAB",
        "colab_type": "code",
        "colab": {
          "base_uri": "https://localhost:8080/",
          "height": 85
        },
        "outputId": "d4f3d713-80eb-4074-b994-aca505dc341a"
      },
      "cell_type": "code",
      "source": [
        "!python /DeepSpeech/DeepSpeech.py --train_files /DeepSpeech/data/tiny-dataset/tiny-train.csv --dev_files /DeepSpeech/data/tiny-dataset/tiny-dev.csv --test_files /DeepSpeech/data/tiny-dataset/tiny-test.csv"
      ],
      "execution_count": 6,
      "outputs": [
        {
          "output_type": "stream",
          "text": [
            "Traceback (most recent call last):\n",
            "  File \"/DeepSpeech/DeepSpeech.py\", line 12, in <module>\n",
            "    reload(sys)\n",
            "NameError: name 'reload' is not defined\n"
          ],
          "name": "stdout"
        }
      ]
    },
    {
      "metadata": {
        "id": "ifMhwrPr-3Ay",
        "colab_type": "code",
        "colab": {}
      },
      "cell_type": "code",
      "source": [
        ""
      ],
      "execution_count": 0,
      "outputs": []
    },
    {
      "metadata": {
        "id": "WEOr90b3CKPq",
        "colab_type": "code",
        "colab": {
          "base_uri": "https://localhost:8080/",
          "height": 54
        },
        "outputId": "3b80fe36-48b4-439e-c628-b5fe83b7c284"
      },
      "cell_type": "code",
      "source": [
        "!python3 util/taskcluster.py --decoder"
      ],
      "execution_count": 3,
      "outputs": [
        {
          "output_type": "stream",
          "text": [
            "https://index.taskcluster.net/v1/task/project.deepspeech.deepspeech.native_client.v0.5.0-alpha.4.cpu-ctc/artifacts/public/ds_ctcdecoder-0.5.0a4-cp36-cp36m-manylinux1_x86_64.whl\n"
          ],
          "name": "stdout"
        }
      ]
    },
    {
      "metadata": {
        "id": "PNAzSRaFEqnH",
        "colab_type": "code",
        "colab": {}
      },
      "cell_type": "code",
      "source": [
        ""
      ],
      "execution_count": 0,
      "outputs": []
    },
    {
      "metadata": {
        "id": "s9YkbTIQEqp1",
        "colab_type": "code",
        "colab": {}
      },
      "cell_type": "code",
      "source": [
        ""
      ],
      "execution_count": 0,
      "outputs": []
    },
    {
      "metadata": {
        "id": "_6M-sRCdEqtJ",
        "colab_type": "code",
        "colab": {}
      },
      "cell_type": "code",
      "source": [
        ""
      ],
      "execution_count": 0,
      "outputs": []
    },
    {
      "metadata": {
        "id": "-_bNut3ZEqv7",
        "colab_type": "code",
        "colab": {}
      },
      "cell_type": "code",
      "source": [
        ""
      ],
      "execution_count": 0,
      "outputs": []
    },
    {
      "metadata": {
        "id": "lRYM9GY7EqyY",
        "colab_type": "code",
        "colab": {}
      },
      "cell_type": "code",
      "source": [
        ""
      ],
      "execution_count": 0,
      "outputs": []
    },
    {
      "metadata": {
        "id": "GyxhLWTSEq0y",
        "colab_type": "code",
        "colab": {}
      },
      "cell_type": "code",
      "source": [
        ""
      ],
      "execution_count": 0,
      "outputs": []
    },
    {
      "metadata": {
        "id": "ZM7UfOGjEq3m",
        "colab_type": "code",
        "colab": {}
      },
      "cell_type": "code",
      "source": [
        ""
      ],
      "execution_count": 0,
      "outputs": []
    },
    {
      "metadata": {
        "id": "YOyTDYLeEq5t",
        "colab_type": "code",
        "colab": {}
      },
      "cell_type": "code",
      "source": [
        ""
      ],
      "execution_count": 0,
      "outputs": []
    }
  ]
}